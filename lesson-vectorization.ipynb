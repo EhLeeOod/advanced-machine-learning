{
 "cells": [
  {
   "cell_type": "markdown",
   "id": "656bf3ce-4a9e-4e34-8eea-e8a9261badfc",
   "metadata": {},
   "source": [
    "# Lesson: Vectorization"
   ]
  },
  {
   "cell_type": "markdown",
   "id": "a59c7d76-a516-4266-8b35-1ab6c84f9e67",
   "metadata": {},
   "source": [
    "## Imports"
   ]
  },
  {
   "cell_type": "code",
   "execution_count": 3,
   "id": "eeb42d22-ece4-4592-8809-ebe78de9ac05",
   "metadata": {},
   "outputs": [],
   "source": [
    "# packages\n",
    "\n",
    "import numpy as np\n",
    "import pandas as pd\n",
    "from sklearn import set_config\n",
    "set_config(transform_output='pandas')"
   ]
  },
  {
   "cell_type": "code",
   "execution_count": 4,
   "id": "94794d7a-51a8-4e0e-90ff-13970bb9ebe7",
   "metadata": {},
   "outputs": [],
   "source": [
    "# data (each sentence is considered a doc)\n",
    "\n",
    "X = np.array([\n",
    "    \"I enjoy learning new programming languages. The best is Python. Programming is so fun!\",\n",
    "    \"I love programming, I would give it an A+!\",\n",
    "    \"Programming is amazing. Programming is love. Programming is life.\",\n",
    "    \"Python is my favorite programming language.\"\n",
    "])\n"
   ]
  },
  {
   "cell_type": "markdown",
   "id": "9374f06b-00b9-491b-b7a7-2a637f552040",
   "metadata": {},
   "source": [
    "## Count Vectorization\n",
    "\n",
    "1) Tokenize\n",
    "2) Build vocabulary\n",
    "3) Generate vectors (frequency)"
   ]
  },
  {
   "cell_type": "code",
   "execution_count": 7,
   "id": "4179fe49-300e-4211-b8e6-53a0afe551da",
   "metadata": {},
   "outputs": [
    {
     "data": {
      "text/html": [
       "<style>#sk-container-id-1 {color: black;background-color: white;}#sk-container-id-1 pre{padding: 0;}#sk-container-id-1 div.sk-toggleable {background-color: white;}#sk-container-id-1 label.sk-toggleable__label {cursor: pointer;display: block;width: 100%;margin-bottom: 0;padding: 0.3em;box-sizing: border-box;text-align: center;}#sk-container-id-1 label.sk-toggleable__label-arrow:before {content: \"▸\";float: left;margin-right: 0.25em;color: #696969;}#sk-container-id-1 label.sk-toggleable__label-arrow:hover:before {color: black;}#sk-container-id-1 div.sk-estimator:hover label.sk-toggleable__label-arrow:before {color: black;}#sk-container-id-1 div.sk-toggleable__content {max-height: 0;max-width: 0;overflow: hidden;text-align: left;background-color: #f0f8ff;}#sk-container-id-1 div.sk-toggleable__content pre {margin: 0.2em;color: black;border-radius: 0.25em;background-color: #f0f8ff;}#sk-container-id-1 input.sk-toggleable__control:checked~div.sk-toggleable__content {max-height: 200px;max-width: 100%;overflow: auto;}#sk-container-id-1 input.sk-toggleable__control:checked~label.sk-toggleable__label-arrow:before {content: \"▾\";}#sk-container-id-1 div.sk-estimator input.sk-toggleable__control:checked~label.sk-toggleable__label {background-color: #d4ebff;}#sk-container-id-1 div.sk-label input.sk-toggleable__control:checked~label.sk-toggleable__label {background-color: #d4ebff;}#sk-container-id-1 input.sk-hidden--visually {border: 0;clip: rect(1px 1px 1px 1px);clip: rect(1px, 1px, 1px, 1px);height: 1px;margin: -1px;overflow: hidden;padding: 0;position: absolute;width: 1px;}#sk-container-id-1 div.sk-estimator {font-family: monospace;background-color: #f0f8ff;border: 1px dotted black;border-radius: 0.25em;box-sizing: border-box;margin-bottom: 0.5em;}#sk-container-id-1 div.sk-estimator:hover {background-color: #d4ebff;}#sk-container-id-1 div.sk-parallel-item::after {content: \"\";width: 100%;border-bottom: 1px solid gray;flex-grow: 1;}#sk-container-id-1 div.sk-label:hover label.sk-toggleable__label {background-color: #d4ebff;}#sk-container-id-1 div.sk-serial::before {content: \"\";position: absolute;border-left: 1px solid gray;box-sizing: border-box;top: 0;bottom: 0;left: 50%;z-index: 0;}#sk-container-id-1 div.sk-serial {display: flex;flex-direction: column;align-items: center;background-color: white;padding-right: 0.2em;padding-left: 0.2em;position: relative;}#sk-container-id-1 div.sk-item {position: relative;z-index: 1;}#sk-container-id-1 div.sk-parallel {display: flex;align-items: stretch;justify-content: center;background-color: white;position: relative;}#sk-container-id-1 div.sk-item::before, #sk-container-id-1 div.sk-parallel-item::before {content: \"\";position: absolute;border-left: 1px solid gray;box-sizing: border-box;top: 0;bottom: 0;left: 50%;z-index: -1;}#sk-container-id-1 div.sk-parallel-item {display: flex;flex-direction: column;z-index: 1;position: relative;background-color: white;}#sk-container-id-1 div.sk-parallel-item:first-child::after {align-self: flex-end;width: 50%;}#sk-container-id-1 div.sk-parallel-item:last-child::after {align-self: flex-start;width: 50%;}#sk-container-id-1 div.sk-parallel-item:only-child::after {width: 0;}#sk-container-id-1 div.sk-dashed-wrapped {border: 1px dashed gray;margin: 0 0.4em 0.5em 0.4em;box-sizing: border-box;padding-bottom: 0.4em;background-color: white;}#sk-container-id-1 div.sk-label label {font-family: monospace;font-weight: bold;display: inline-block;line-height: 1.2em;}#sk-container-id-1 div.sk-label-container {text-align: center;}#sk-container-id-1 div.sk-container {/* jupyter's `normalize.less` sets `[hidden] { display: none; }` but bootstrap.min.css set `[hidden] { display: none !important; }` so we also need the `!important` here to be able to override the default hidden behavior on the sphinx rendered scikit-learn.org. See: https://github.com/scikit-learn/scikit-learn/issues/21755 */display: inline-block !important;position: relative;}#sk-container-id-1 div.sk-text-repr-fallback {display: none;}</style><div id=\"sk-container-id-1\" class=\"sk-top-container\"><div class=\"sk-text-repr-fallback\"><pre>CountVectorizer()</pre><b>In a Jupyter environment, please rerun this cell to show the HTML representation or trust the notebook. <br />On GitHub, the HTML representation is unable to render, please try loading this page with nbviewer.org.</b></div><div class=\"sk-container\" hidden><div class=\"sk-item\"><div class=\"sk-estimator sk-toggleable\"><input class=\"sk-toggleable__control sk-hidden--visually\" id=\"sk-estimator-id-1\" type=\"checkbox\" checked><label for=\"sk-estimator-id-1\" class=\"sk-toggleable__label sk-toggleable__label-arrow\">CountVectorizer</label><div class=\"sk-toggleable__content\"><pre>CountVectorizer()</pre></div></div></div></div></div>"
      ],
      "text/plain": [
       "CountVectorizer()"
      ]
     },
     "execution_count": 7,
     "metadata": {},
     "output_type": "execute_result"
    }
   ],
   "source": [
    "# import CountVectorizer\n",
    "from sklearn.feature_extraction.text import CountVectorizer\n",
    "\n",
    "# instantiate a vectorizer\n",
    "vectorizer = CountVectorizer()\n",
    "\n",
    "# Fit it on the data \n",
    "vectorizer.fit(X)"
   ]
  },
  {
   "cell_type": "code",
   "execution_count": 8,
   "id": "2bd5ac28-f9e5-4dd4-8ce7-4935f5d40703",
   "metadata": {},
   "outputs": [
    {
     "data": {
      "text/plain": [
       "dict"
      ]
     },
     "execution_count": 8,
     "metadata": {},
     "output_type": "execute_result"
    }
   ],
   "source": [
    "# Saves vocab - matches number of columns above, returns dict\n",
    "vocab_dict = vectorizer.vocabulary_\n",
    "type(vocab_dict)"
   ]
  },
  {
   "cell_type": "code",
   "execution_count": 12,
   "id": "aa82364c-f21c-4d4b-8a89-2813c26f6d0f",
   "metadata": {},
   "outputs": [
    {
     "data": {
      "text/plain": [
       "{'enjoy': 3,\n",
       " 'learning': 11,\n",
       " 'new': 15,\n",
       " 'programming': 16,\n",
       " 'languages': 10,\n",
       " 'the': 19,\n",
       " 'best': 2,\n",
       " 'is': 7,\n",
       " 'python': 17,\n",
       " 'so': 18,\n",
       " 'fun': 5,\n",
       " 'love': 13,\n",
       " 'would': 20,\n",
       " 'give': 6,\n",
       " 'it': 8,\n",
       " 'an': 1,\n",
       " 'amazing': 0,\n",
       " 'life': 12,\n",
       " 'my': 14,\n",
       " 'favorite': 4,\n",
       " 'language': 9}"
      ]
     },
     "execution_count": 12,
     "metadata": {},
     "output_type": "execute_result"
    }
   ],
   "source": [
    "# dict assigns integer based on alphabetical order, i.e. 'amazing' = 0, 'an' = 1, etc.\n",
    "vocab_dict"
   ]
  },
  {
   "cell_type": "code",
   "execution_count": 11,
   "id": "17bb5b00-c277-42bd-951e-05d6c4bbf81b",
   "metadata": {},
   "outputs": [
    {
     "data": {
      "text/plain": [
       "21"
      ]
     },
     "execution_count": 11,
     "metadata": {},
     "output_type": "execute_result"
    }
   ],
   "source": [
    "# check count of unique words in vocabulary\n",
    "len(vocab_dict)"
   ]
  },
  {
   "cell_type": "code",
   "execution_count": 13,
   "id": "77d13bf8-624a-4e33-9ab0-923f69f424da",
   "metadata": {},
   "outputs": [
    {
     "data": {
      "text/plain": [
       "scipy.sparse._csr.csr_matrix"
      ]
     },
     "execution_count": 13,
     "metadata": {},
     "output_type": "execute_result"
    }
   ],
   "source": [
    "# To obtain the count, transform the X data\n",
    "X_count = vectorizer.transform(X)\n",
    "type(X_count)"
   ]
  },
  {
   "cell_type": "code",
   "execution_count": 14,
   "id": "009a8f0c-4f41-480d-9270-17ea5c0ccd89",
   "metadata": {},
   "outputs": [
    {
     "data": {
      "text/plain": [
       "array([[0, 0, 1, 1, 0, 1, 0, 2, 0, 0, 1, 1, 0, 0, 0, 1, 2, 1, 1, 1, 0],\n",
       "       [0, 1, 0, 0, 0, 0, 1, 0, 1, 0, 0, 0, 0, 1, 0, 0, 1, 0, 0, 0, 1],\n",
       "       [1, 0, 0, 0, 0, 0, 0, 3, 0, 0, 0, 0, 1, 1, 0, 0, 3, 0, 0, 0, 0],\n",
       "       [0, 0, 0, 0, 1, 0, 0, 1, 0, 1, 0, 0, 0, 0, 1, 0, 1, 1, 0, 0, 0]],\n",
       "      dtype=int64)"
      ]
     },
     "execution_count": 14,
     "metadata": {},
     "output_type": "execute_result"
    }
   ],
   "source": [
    "# Convert sparse matrix to array for display\n",
    "X_count.toarray()"
   ]
  },
  {
   "cell_type": "code",
   "execution_count": 15,
   "id": "c373d5e4-985b-4341-abbd-2ac708c33382",
   "metadata": {},
   "outputs": [
    {
     "data": {
      "text/plain": [
       "(4, 21)"
      ]
     },
     "execution_count": 15,
     "metadata": {},
     "output_type": "execute_result"
    }
   ],
   "source": [
    "# Check the shape of the array\n",
    "X_count.shape"
   ]
  },
  {
   "cell_type": "code",
   "execution_count": 16,
   "id": "b7870391-edb0-4546-9d1c-cb266e6672cc",
   "metadata": {},
   "outputs": [
    {
     "data": {
      "text/html": [
       "<div>\n",
       "<style scoped>\n",
       "    .dataframe tbody tr th:only-of-type {\n",
       "        vertical-align: middle;\n",
       "    }\n",
       "\n",
       "    .dataframe tbody tr th {\n",
       "        vertical-align: top;\n",
       "    }\n",
       "\n",
       "    .dataframe thead th {\n",
       "        text-align: right;\n",
       "    }\n",
       "</style>\n",
       "<table border=\"1\" class=\"dataframe\">\n",
       "  <thead>\n",
       "    <tr style=\"text-align: right;\">\n",
       "      <th></th>\n",
       "      <th>amazing</th>\n",
       "      <th>an</th>\n",
       "      <th>best</th>\n",
       "      <th>enjoy</th>\n",
       "      <th>favorite</th>\n",
       "      <th>fun</th>\n",
       "      <th>give</th>\n",
       "      <th>is</th>\n",
       "      <th>it</th>\n",
       "      <th>language</th>\n",
       "      <th>...</th>\n",
       "      <th>learning</th>\n",
       "      <th>life</th>\n",
       "      <th>love</th>\n",
       "      <th>my</th>\n",
       "      <th>new</th>\n",
       "      <th>programming</th>\n",
       "      <th>python</th>\n",
       "      <th>so</th>\n",
       "      <th>the</th>\n",
       "      <th>would</th>\n",
       "    </tr>\n",
       "  </thead>\n",
       "  <tbody>\n",
       "    <tr>\n",
       "      <th>0</th>\n",
       "      <td>0</td>\n",
       "      <td>0</td>\n",
       "      <td>1</td>\n",
       "      <td>1</td>\n",
       "      <td>0</td>\n",
       "      <td>1</td>\n",
       "      <td>0</td>\n",
       "      <td>2</td>\n",
       "      <td>0</td>\n",
       "      <td>0</td>\n",
       "      <td>...</td>\n",
       "      <td>1</td>\n",
       "      <td>0</td>\n",
       "      <td>0</td>\n",
       "      <td>0</td>\n",
       "      <td>1</td>\n",
       "      <td>2</td>\n",
       "      <td>1</td>\n",
       "      <td>1</td>\n",
       "      <td>1</td>\n",
       "      <td>0</td>\n",
       "    </tr>\n",
       "    <tr>\n",
       "      <th>1</th>\n",
       "      <td>0</td>\n",
       "      <td>1</td>\n",
       "      <td>0</td>\n",
       "      <td>0</td>\n",
       "      <td>0</td>\n",
       "      <td>0</td>\n",
       "      <td>1</td>\n",
       "      <td>0</td>\n",
       "      <td>1</td>\n",
       "      <td>0</td>\n",
       "      <td>...</td>\n",
       "      <td>0</td>\n",
       "      <td>0</td>\n",
       "      <td>1</td>\n",
       "      <td>0</td>\n",
       "      <td>0</td>\n",
       "      <td>1</td>\n",
       "      <td>0</td>\n",
       "      <td>0</td>\n",
       "      <td>0</td>\n",
       "      <td>1</td>\n",
       "    </tr>\n",
       "    <tr>\n",
       "      <th>2</th>\n",
       "      <td>1</td>\n",
       "      <td>0</td>\n",
       "      <td>0</td>\n",
       "      <td>0</td>\n",
       "      <td>0</td>\n",
       "      <td>0</td>\n",
       "      <td>0</td>\n",
       "      <td>3</td>\n",
       "      <td>0</td>\n",
       "      <td>0</td>\n",
       "      <td>...</td>\n",
       "      <td>0</td>\n",
       "      <td>1</td>\n",
       "      <td>1</td>\n",
       "      <td>0</td>\n",
       "      <td>0</td>\n",
       "      <td>3</td>\n",
       "      <td>0</td>\n",
       "      <td>0</td>\n",
       "      <td>0</td>\n",
       "      <td>0</td>\n",
       "    </tr>\n",
       "    <tr>\n",
       "      <th>3</th>\n",
       "      <td>0</td>\n",
       "      <td>0</td>\n",
       "      <td>0</td>\n",
       "      <td>0</td>\n",
       "      <td>1</td>\n",
       "      <td>0</td>\n",
       "      <td>0</td>\n",
       "      <td>1</td>\n",
       "      <td>0</td>\n",
       "      <td>1</td>\n",
       "      <td>...</td>\n",
       "      <td>0</td>\n",
       "      <td>0</td>\n",
       "      <td>0</td>\n",
       "      <td>1</td>\n",
       "      <td>0</td>\n",
       "      <td>1</td>\n",
       "      <td>1</td>\n",
       "      <td>0</td>\n",
       "      <td>0</td>\n",
       "      <td>0</td>\n",
       "    </tr>\n",
       "  </tbody>\n",
       "</table>\n",
       "<p>4 rows × 21 columns</p>\n",
       "</div>"
      ],
      "text/plain": [
       "   amazing  an  best  enjoy  favorite  fun  give  is  it  language  ...  \\\n",
       "0        0   0     1      1         0    1     0   2   0         0  ...   \n",
       "1        0   1     0      0         0    0     1   0   1         0  ...   \n",
       "2        1   0     0      0         0    0     0   3   0         0  ...   \n",
       "3        0   0     0      0         1    0     0   1   0         1  ...   \n",
       "\n",
       "   learning  life  love  my  new  programming  python  so  the  would  \n",
       "0         1     0     0   0    1            2       1   1    1      0  \n",
       "1         0     0     1   0    0            1       0   0    0      1  \n",
       "2         0     1     1   0    0            3       0   0    0      0  \n",
       "3         0     0     0   1    0            1       1   0    0      0  \n",
       "\n",
       "[4 rows x 21 columns]"
      ]
     },
     "execution_count": 16,
     "metadata": {},
     "output_type": "execute_result"
    }
   ],
   "source": [
    "# Make array into a df\n",
    "X_count_df = pd.DataFrame(X_count.toarray(), columns= vectorizer.get_feature_names_out())\n",
    "X_count_df"
   ]
  },
  {
   "cell_type": "markdown",
   "id": "cfac315c-80c4-40d4-8215-04d3a2e90ef1",
   "metadata": {},
   "source": [
    "using the default CountVectorizer resulted in\n",
    "\n",
    "The words have been converted to lowercase.\n",
    "\n",
    "Words that were less than 2-letters-long were removed (\"I\", \"A\")\n",
    "\n",
    "Stopwords were not removed.\n",
    "\n",
    "Punctuation was removed."
   ]
  },
  {
   "cell_type": "markdown",
   "id": "8065580d-ccd1-4b67-8b0a-0fc41f29230d",
   "metadata": {},
   "source": [
    "## TF-IDF Vectorization\n",
    "\n",
    "a higher weight is given to unique words across all docs (ranges from 0-1)"
   ]
  },
  {
   "cell_type": "code",
   "execution_count": 18,
   "id": "b1d066b5-7a3c-4301-9735-ddccdd3086ce",
   "metadata": {},
   "outputs": [
    {
     "data": {
      "text/html": [
       "<div>\n",
       "<style scoped>\n",
       "    .dataframe tbody tr th:only-of-type {\n",
       "        vertical-align: middle;\n",
       "    }\n",
       "\n",
       "    .dataframe tbody tr th {\n",
       "        vertical-align: top;\n",
       "    }\n",
       "\n",
       "    .dataframe thead th {\n",
       "        text-align: right;\n",
       "    }\n",
       "</style>\n",
       "<table border=\"1\" class=\"dataframe\">\n",
       "  <thead>\n",
       "    <tr style=\"text-align: right;\">\n",
       "      <th></th>\n",
       "      <th>amazing</th>\n",
       "      <th>an</th>\n",
       "      <th>best</th>\n",
       "      <th>enjoy</th>\n",
       "      <th>favorite</th>\n",
       "      <th>fun</th>\n",
       "      <th>give</th>\n",
       "      <th>is</th>\n",
       "      <th>it</th>\n",
       "      <th>language</th>\n",
       "      <th>...</th>\n",
       "      <th>learning</th>\n",
       "      <th>life</th>\n",
       "      <th>love</th>\n",
       "      <th>my</th>\n",
       "      <th>new</th>\n",
       "      <th>programming</th>\n",
       "      <th>python</th>\n",
       "      <th>so</th>\n",
       "      <th>the</th>\n",
       "      <th>would</th>\n",
       "    </tr>\n",
       "  </thead>\n",
       "  <tbody>\n",
       "    <tr>\n",
       "      <th>0</th>\n",
       "      <td>0.0000</td>\n",
       "      <td>0.000</td>\n",
       "      <td>0.297</td>\n",
       "      <td>0.297</td>\n",
       "      <td>0.0000</td>\n",
       "      <td>0.297</td>\n",
       "      <td>0.000</td>\n",
       "      <td>0.3791</td>\n",
       "      <td>0.000</td>\n",
       "      <td>0.0000</td>\n",
       "      <td>...</td>\n",
       "      <td>0.297</td>\n",
       "      <td>0.0000</td>\n",
       "      <td>0.0000</td>\n",
       "      <td>0.0000</td>\n",
       "      <td>0.297</td>\n",
       "      <td>0.3099</td>\n",
       "      <td>0.2341</td>\n",
       "      <td>0.297</td>\n",
       "      <td>0.297</td>\n",
       "      <td>0.000</td>\n",
       "    </tr>\n",
       "    <tr>\n",
       "      <th>1</th>\n",
       "      <td>0.0000</td>\n",
       "      <td>0.452</td>\n",
       "      <td>0.000</td>\n",
       "      <td>0.000</td>\n",
       "      <td>0.0000</td>\n",
       "      <td>0.000</td>\n",
       "      <td>0.452</td>\n",
       "      <td>0.0000</td>\n",
       "      <td>0.452</td>\n",
       "      <td>0.0000</td>\n",
       "      <td>...</td>\n",
       "      <td>0.000</td>\n",
       "      <td>0.0000</td>\n",
       "      <td>0.3564</td>\n",
       "      <td>0.0000</td>\n",
       "      <td>0.000</td>\n",
       "      <td>0.2359</td>\n",
       "      <td>0.0000</td>\n",
       "      <td>0.000</td>\n",
       "      <td>0.000</td>\n",
       "      <td>0.452</td>\n",
       "    </tr>\n",
       "    <tr>\n",
       "      <th>2</th>\n",
       "      <td>0.3383</td>\n",
       "      <td>0.000</td>\n",
       "      <td>0.000</td>\n",
       "      <td>0.000</td>\n",
       "      <td>0.0000</td>\n",
       "      <td>0.000</td>\n",
       "      <td>0.000</td>\n",
       "      <td>0.6477</td>\n",
       "      <td>0.000</td>\n",
       "      <td>0.0000</td>\n",
       "      <td>...</td>\n",
       "      <td>0.000</td>\n",
       "      <td>0.3383</td>\n",
       "      <td>0.2667</td>\n",
       "      <td>0.0000</td>\n",
       "      <td>0.000</td>\n",
       "      <td>0.5296</td>\n",
       "      <td>0.0000</td>\n",
       "      <td>0.000</td>\n",
       "      <td>0.000</td>\n",
       "      <td>0.000</td>\n",
       "    </tr>\n",
       "    <tr>\n",
       "      <th>3</th>\n",
       "      <td>0.0000</td>\n",
       "      <td>0.000</td>\n",
       "      <td>0.000</td>\n",
       "      <td>0.000</td>\n",
       "      <td>0.4822</td>\n",
       "      <td>0.000</td>\n",
       "      <td>0.000</td>\n",
       "      <td>0.3078</td>\n",
       "      <td>0.000</td>\n",
       "      <td>0.4822</td>\n",
       "      <td>...</td>\n",
       "      <td>0.000</td>\n",
       "      <td>0.0000</td>\n",
       "      <td>0.0000</td>\n",
       "      <td>0.4822</td>\n",
       "      <td>0.000</td>\n",
       "      <td>0.2516</td>\n",
       "      <td>0.3801</td>\n",
       "      <td>0.000</td>\n",
       "      <td>0.000</td>\n",
       "      <td>0.000</td>\n",
       "    </tr>\n",
       "  </tbody>\n",
       "</table>\n",
       "<p>4 rows × 21 columns</p>\n",
       "</div>"
      ],
      "text/plain": [
       "   amazing     an   best  enjoy  favorite    fun   give      is     it  \\\n",
       "0   0.0000  0.000  0.297  0.297    0.0000  0.297  0.000  0.3791  0.000   \n",
       "1   0.0000  0.452  0.000  0.000    0.0000  0.000  0.452  0.0000  0.452   \n",
       "2   0.3383  0.000  0.000  0.000    0.0000  0.000  0.000  0.6477  0.000   \n",
       "3   0.0000  0.000  0.000  0.000    0.4822  0.000  0.000  0.3078  0.000   \n",
       "\n",
       "   language  ...  learning    life    love      my    new  programming  \\\n",
       "0    0.0000  ...     0.297  0.0000  0.0000  0.0000  0.297       0.3099   \n",
       "1    0.0000  ...     0.000  0.0000  0.3564  0.0000  0.000       0.2359   \n",
       "2    0.0000  ...     0.000  0.3383  0.2667  0.0000  0.000       0.5296   \n",
       "3    0.4822  ...     0.000  0.0000  0.0000  0.4822  0.000       0.2516   \n",
       "\n",
       "   python     so    the  would  \n",
       "0  0.2341  0.297  0.297  0.000  \n",
       "1  0.0000  0.000  0.000  0.452  \n",
       "2  0.0000  0.000  0.000  0.000  \n",
       "3  0.3801  0.000  0.000  0.000  \n",
       "\n",
       "[4 rows x 21 columns]"
      ]
     },
     "execution_count": 18,
     "metadata": {},
     "output_type": "execute_result"
    }
   ],
   "source": [
    "# import TfidfVectorizer\n",
    "from sklearn.feature_extraction.text import TfidfVectorizer\n",
    "\n",
    "# TfidfVectorizer Example\n",
    "tfidf_vectorizer = TfidfVectorizer()\n",
    "X_tfidf = tfidf_vectorizer.fit_transform(X)\n",
    "X_tfidf_df = pd.DataFrame(X_tfidf.toarray(), columns= tfidf_vectorizer.get_feature_names_out())\n",
    "X_tfidf_df.round(4)\n",
    "\n"
   ]
  },
  {
   "cell_type": "markdown",
   "id": "4f14ae78-f689-457e-b068-3cfd162bcda2",
   "metadata": {},
   "source": [
    "## Comparison\n",
    "\n",
    "CountVectorizer:\n",
    "\n",
    "Simple word counts. Common words that appear in many documents could overshadow meaningful terms.\n",
    "\n",
    "Use CountVectorizer when you want a simple representation and do not need to consider the importance of a term relative to the corpus.\n",
    "\n",
    "TfidfVectorizer:\n",
    "\n",
    "Weights the word counts by a measure of how often they appear in the documents, which helps to adjust for the frequency of words across all documents.\n",
    "\n",
    "Use TfidfVectorizer when you want to determine important terms that are relevant in the context of the entire corpus.\n",
    "\n",
    "Either vectorizer can also perform additional preprocessing on the text data, such as:\n",
    "\n",
    "Eliminating stopwords (Not removed by default)\n",
    "\n",
    "Creating n-grams as well as single tokens.\n",
    "\n",
    "Changing tokenization patterns (or using a custom function to tokenize)"
   ]
  },
  {
   "cell_type": "markdown",
   "id": "1bae14b8-7685-443a-a5ab-057be957a216",
   "metadata": {},
   "source": []
  },
  {
   "cell_type": "code",
   "execution_count": null,
   "id": "8e4de6a9-6e36-47a3-9ffd-3872a4283518",
   "metadata": {},
   "outputs": [],
   "source": []
  }
 ],
 "metadata": {
  "kernelspec": {
   "display_name": "Python (dojo-env)",
   "language": "python",
   "name": "dojo-env"
  },
  "language_info": {
   "codemirror_mode": {
    "name": "ipython",
    "version": 3
   },
   "file_extension": ".py",
   "mimetype": "text/x-python",
   "name": "python",
   "nbconvert_exporter": "python",
   "pygments_lexer": "ipython3",
   "version": "3.10.10"
  },
  "widgets": {
   "application/vnd.jupyter.widget-state+json": {
    "state": {},
    "version_major": 2,
    "version_minor": 0
   }
  }
 },
 "nbformat": 4,
 "nbformat_minor": 5
}
