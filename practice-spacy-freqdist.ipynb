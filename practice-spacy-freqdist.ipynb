{
 "cells": [
  {
   "cell_type": "markdown",
   "id": "097ce07c-2890-4eae-b381-d0760ef68156",
   "metadata": {},
   "source": [
    "# NLP with SpaCy"
   ]
  },
  {
   "cell_type": "markdown",
   "id": "9ee0c077-edec-45ea-ba8b-3ecb2a451fda",
   "metadata": {},
   "source": [
    "## Import SpaCy"
   ]
  },
  {
   "cell_type": "code",
   "execution_count": 1,
   "id": "912e02a2-f79b-40b5-966e-0a82408457b6",
   "metadata": {},
   "outputs": [
    {
     "data": {
      "text/plain": [
       "<spacy.lang.en.English at 0x2a877b10e20>"
      ]
     },
     "execution_count": 1,
     "metadata": {},
     "output_type": "execute_result"
    }
   ],
   "source": [
    "import spacy\n",
    "nlp = spacy.load('en_core_web_sm')\n",
    "nlp"
   ]
  },
  {
   "cell_type": "code",
   "execution_count": 2,
   "id": "5c596f63-5bc3-44e2-aa3b-64c1a8112729",
   "metadata": {},
   "outputs": [
    {
     "data": {
      "text/plain": [
       "['tok2vec', 'tagger', 'parser', 'attribute_ruler', 'lemmatizer', 'ner']"
      ]
     },
     "execution_count": 2,
     "metadata": {},
     "output_type": "execute_result"
    }
   ],
   "source": [
    "# nlp encapsulates the entire nlp pipeline\n",
    "nlp.pipe_names"
   ]
  },
  {
   "cell_type": "code",
   "execution_count": 3,
   "id": "2116ef29-f4fd-4698-859c-274168f3e6d2",
   "metadata": {},
   "outputs": [
    {
     "name": "stdout",
     "output_type": "stream",
     "text": [
      "While running in Central Park, \n",
      "I noticed a discarded McDonald's container,surounded by buzzing flies was annoying.\n"
     ]
    }
   ],
   "source": [
    "# sample text for doc demo\n",
    "# define text for demonstration\n",
    "sample_text = \"While running in Central Park, \\nI noticed a discarded McDonald's container,surounded by buzzing flies was annoying.\"\n",
    "print(sample_text)"
   ]
  },
  {
   "cell_type": "markdown",
   "id": "34b9a8c7-382f-47ed-92ab-31d6faf2e6d0",
   "metadata": {},
   "source": [
    "### Docs"
   ]
  },
  {
   "cell_type": "code",
   "execution_count": 4,
   "id": "b462169a-ec96-4183-bea2-2e02e51b7b6c",
   "metadata": {},
   "outputs": [
    {
     "data": {
      "text/plain": [
       "spacy.tokens.doc.Doc"
      ]
     },
     "execution_count": 4,
     "metadata": {},
     "output_type": "execute_result"
    }
   ],
   "source": [
    "# Create a doc with the nlp pipeline\n",
    "doc = nlp(sample_text)\n",
    "type(doc)"
   ]
  },
  {
   "cell_type": "code",
   "execution_count": 5,
   "id": "7c49609c-81fd-48cb-93f2-98391721af42",
   "metadata": {},
   "outputs": [
    {
     "name": "stdout",
     "output_type": "stream",
     "text": [
      "While running in Central Park, \n",
      "I noticed a discarded McDonald's container,surounded by buzzing flies was annoying.\n"
     ]
    },
    {
     "data": {
      "text/plain": [
       "While running in Central Park, \n",
       "I noticed a discarded McDonald's container,surounded by buzzing flies was annoying."
      ]
     },
     "execution_count": 5,
     "metadata": {},
     "output_type": "execute_result"
    }
   ],
   "source": [
    "# docs look like original text when displayed\n",
    "print(sample_text)\n",
    "doc"
   ]
  },
  {
   "cell_type": "markdown",
   "id": "ab979eeb-e8f3-4ecc-bcef-167b6f861eae",
   "metadata": {},
   "source": [
    "### Token objects within docs"
   ]
  },
  {
   "cell_type": "code",
   "execution_count": 6,
   "id": "77893135-69b7-4b47-a0ff-1b3244697f8e",
   "metadata": {},
   "outputs": [
    {
     "name": "stdout",
     "output_type": "stream",
     "text": [
      "While\n",
      "running\n",
      "in\n",
      "Central\n",
      "Park\n",
      ",\n",
      "\n",
      "\n",
      "I\n",
      "noticed\n",
      "a\n",
      "discarded\n",
      "McDonald\n",
      "'s\n",
      "container\n",
      ",\n",
      "surounded\n",
      "by\n",
      "buzzing\n",
      "flies\n",
      "was\n",
      "annoying\n",
      ".\n"
     ]
    }
   ],
   "source": [
    "for token in doc:\n",
    "    print(token)"
   ]
  },
  {
   "cell_type": "markdown",
   "id": "8c18416d-f68e-43a3-b19d-4b2ca8deb138",
   "metadata": {},
   "source": [
    "## Token Attributes"
   ]
  },
  {
   "cell_type": "code",
   "execution_count": 7,
   "id": "cbe930db-f281-4fa0-900c-598063cd12a2",
   "metadata": {},
   "outputs": [
    {
     "data": {
      "text/plain": [
       "running"
      ]
     },
     "execution_count": 7,
     "metadata": {},
     "output_type": "execute_result"
    }
   ],
   "source": [
    "# slice token from doc\n",
    "token = doc[1]\n",
    "token"
   ]
  },
  {
   "cell_type": "markdown",
   "id": "9967508c-5ff7-4fd4-90d3-8322d33d952a",
   "metadata": {},
   "source": [
    "### token.text: original form of the word"
   ]
  },
  {
   "cell_type": "code",
   "execution_count": 8,
   "id": "5bd54cc7-8156-4bea-8c2d-b83d1ee98316",
   "metadata": {},
   "outputs": [
    {
     "name": "stdout",
     "output_type": "stream",
     "text": [
      "running\n"
     ]
    }
   ],
   "source": [
    "print(token.text)"
   ]
  },
  {
   "cell_type": "markdown",
   "id": "15b5fc42-f3c2-45a7-9c24-b859bcba2f9a",
   "metadata": {},
   "source": [
    "### token.lemma_: the base or root form of the word"
   ]
  },
  {
   "cell_type": "code",
   "execution_count": 9,
   "id": "be698b2d-000f-462b-8d6d-5b5f47b94517",
   "metadata": {},
   "outputs": [
    {
     "name": "stdout",
     "output_type": "stream",
     "text": [
      "run\n"
     ]
    }
   ],
   "source": [
    "print(token.lemma_)"
   ]
  },
  {
   "cell_type": "markdown",
   "id": "83ff6958-9563-4c97-bb90-563196b7761e",
   "metadata": {},
   "source": [
    "### token.pos_: The part-of-speech tag associated with the token"
   ]
  },
  {
   "cell_type": "code",
   "execution_count": 10,
   "id": "28aa672d-c092-4975-9803-4590d4c027e5",
   "metadata": {},
   "outputs": [
    {
     "name": "stdout",
     "output_type": "stream",
     "text": [
      "VERB\n"
     ]
    }
   ],
   "source": [
    "print(token.pos_)"
   ]
  },
  {
   "cell_type": "markdown",
   "id": "0513eaec-fb9f-4f78-addf-868668ef1101",
   "metadata": {},
   "source": [
    "###  token.is_stop: Boolean flag to check if the token is a stop word"
   ]
  },
  {
   "cell_type": "code",
   "execution_count": 11,
   "id": "7d3dcaf2-147d-4a1b-98c8-3d32b65b2890",
   "metadata": {},
   "outputs": [
    {
     "name": "stdout",
     "output_type": "stream",
     "text": [
      "False\n"
     ]
    }
   ],
   "source": [
    "print(token.is_stop)"
   ]
  },
  {
   "cell_type": "markdown",
   "id": "101e1e75-1374-4268-9c3c-13a046346b24",
   "metadata": {},
   "source": [
    "### token.is_punct: Boolean flag to check if the token is punctuation"
   ]
  },
  {
   "cell_type": "code",
   "execution_count": 12,
   "id": "702070dc-44f2-4f61-a67a-56eefce42c8d",
   "metadata": {},
   "outputs": [
    {
     "name": "stdout",
     "output_type": "stream",
     "text": [
      "False\n"
     ]
    }
   ],
   "source": [
    "print(token.is_punct)"
   ]
  },
  {
   "cell_type": "markdown",
   "id": "671435a5-b4d3-44b6-8ce8-49e608a88a5b",
   "metadata": {},
   "source": [
    "### loop through each token, create dict for each token, convert to df"
   ]
  },
  {
   "cell_type": "code",
   "execution_count": 13,
   "id": "b7915673-9d21-471a-a606-e68f55dfa20b",
   "metadata": {},
   "outputs": [
    {
     "data": {
      "text/html": [
       "<div>\n",
       "<style scoped>\n",
       "    .dataframe tbody tr th:only-of-type {\n",
       "        vertical-align: middle;\n",
       "    }\n",
       "\n",
       "    .dataframe tbody tr th {\n",
       "        vertical-align: top;\n",
       "    }\n",
       "\n",
       "    .dataframe thead th {\n",
       "        text-align: right;\n",
       "    }\n",
       "</style>\n",
       "<table border=\"1\" class=\"dataframe\">\n",
       "  <thead>\n",
       "    <tr style=\"text-align: right;\">\n",
       "      <th></th>\n",
       "      <th>.text</th>\n",
       "      <th>.lemma_</th>\n",
       "      <th>.pos_</th>\n",
       "      <th>.is_stop</th>\n",
       "      <th>.is_punct</th>\n",
       "      <th>.is_space</th>\n",
       "    </tr>\n",
       "  </thead>\n",
       "  <tbody>\n",
       "    <tr>\n",
       "      <th>0</th>\n",
       "      <td>While</td>\n",
       "      <td>while</td>\n",
       "      <td>SCONJ</td>\n",
       "      <td>True</td>\n",
       "      <td>False</td>\n",
       "      <td>False</td>\n",
       "    </tr>\n",
       "    <tr>\n",
       "      <th>1</th>\n",
       "      <td>running</td>\n",
       "      <td>run</td>\n",
       "      <td>VERB</td>\n",
       "      <td>False</td>\n",
       "      <td>False</td>\n",
       "      <td>False</td>\n",
       "    </tr>\n",
       "    <tr>\n",
       "      <th>2</th>\n",
       "      <td>in</td>\n",
       "      <td>in</td>\n",
       "      <td>ADP</td>\n",
       "      <td>True</td>\n",
       "      <td>False</td>\n",
       "      <td>False</td>\n",
       "    </tr>\n",
       "    <tr>\n",
       "      <th>3</th>\n",
       "      <td>Central</td>\n",
       "      <td>Central</td>\n",
       "      <td>PROPN</td>\n",
       "      <td>False</td>\n",
       "      <td>False</td>\n",
       "      <td>False</td>\n",
       "    </tr>\n",
       "    <tr>\n",
       "      <th>4</th>\n",
       "      <td>Park</td>\n",
       "      <td>Park</td>\n",
       "      <td>PROPN</td>\n",
       "      <td>False</td>\n",
       "      <td>False</td>\n",
       "      <td>False</td>\n",
       "    </tr>\n",
       "    <tr>\n",
       "      <th>5</th>\n",
       "      <td>,</td>\n",
       "      <td>,</td>\n",
       "      <td>PUNCT</td>\n",
       "      <td>False</td>\n",
       "      <td>True</td>\n",
       "      <td>False</td>\n",
       "    </tr>\n",
       "    <tr>\n",
       "      <th>6</th>\n",
       "      <td>\\n</td>\n",
       "      <td>\\n</td>\n",
       "      <td>SPACE</td>\n",
       "      <td>False</td>\n",
       "      <td>False</td>\n",
       "      <td>True</td>\n",
       "    </tr>\n",
       "    <tr>\n",
       "      <th>7</th>\n",
       "      <td>I</td>\n",
       "      <td>I</td>\n",
       "      <td>PRON</td>\n",
       "      <td>True</td>\n",
       "      <td>False</td>\n",
       "      <td>False</td>\n",
       "    </tr>\n",
       "    <tr>\n",
       "      <th>8</th>\n",
       "      <td>noticed</td>\n",
       "      <td>notice</td>\n",
       "      <td>VERB</td>\n",
       "      <td>False</td>\n",
       "      <td>False</td>\n",
       "      <td>False</td>\n",
       "    </tr>\n",
       "    <tr>\n",
       "      <th>9</th>\n",
       "      <td>a</td>\n",
       "      <td>a</td>\n",
       "      <td>DET</td>\n",
       "      <td>True</td>\n",
       "      <td>False</td>\n",
       "      <td>False</td>\n",
       "    </tr>\n",
       "  </tbody>\n",
       "</table>\n",
       "</div>"
      ],
      "text/plain": [
       "     .text  .lemma_  .pos_  .is_stop  .is_punct  .is_space\n",
       "0    While    while  SCONJ      True      False      False\n",
       "1  running      run   VERB     False      False      False\n",
       "2       in       in    ADP      True      False      False\n",
       "3  Central  Central  PROPN     False      False      False\n",
       "4     Park     Park  PROPN     False      False      False\n",
       "5        ,        ,  PUNCT     False       True      False\n",
       "6       \\n       \\n  SPACE     False      False       True\n",
       "7        I        I   PRON      True      False      False\n",
       "8  noticed   notice   VERB     False      False      False\n",
       "9        a        a    DET      True      False      False"
      ]
     },
     "execution_count": 13,
     "metadata": {},
     "output_type": "execute_result"
    }
   ],
   "source": [
    "import pandas as pd\n",
    "# Create dictionary for desired attributes for each token\n",
    "token_data = []\n",
    "for token in doc:\n",
    "    token_dict = {\n",
    "        \".text\": token.text,\n",
    "        \".lemma_\": token.lemma_,\n",
    "        \".pos_\": token.pos_,\n",
    "        \".is_stop\": token.is_stop,\n",
    "        \".is_punct\": token.is_punct,\n",
    "        \".is_space\": token.is_space\n",
    "    }\n",
    "    token_data.append(token_dict)\n",
    "# Save dictionary as a dataframe\n",
    "spacy_df = pd.DataFrame(token_data) \n",
    "spacy_df.head(10)"
   ]
  },
  {
   "cell_type": "markdown",
   "id": "9c7aa4ec-746e-47db-9dd8-dcbc8e4ad60c",
   "metadata": {},
   "source": [
    "## Preprocessing with SpaCy"
   ]
  },
  {
   "cell_type": "markdown",
   "id": "fcc00111-41ab-42c8-8632-96ef8fefaabf",
   "metadata": {},
   "source": [
    "### Remove stop words"
   ]
  },
  {
   "cell_type": "code",
   "execution_count": 14,
   "id": "3e6024ba-d3ae-45e6-962d-f598be9abdb8",
   "metadata": {},
   "outputs": [],
   "source": [
    "# empty list to collect tokens after cleaning\n",
    "cleaned_tokens = []"
   ]
  },
  {
   "cell_type": "code",
   "execution_count": 15,
   "id": "4d6b02d7-8aa5-4e84-aa1b-b20e018b1d83",
   "metadata": {},
   "outputs": [
    {
     "name": "stdout",
     "output_type": "stream",
     "text": [
      "['running', 'central', 'park', ',', '\\n', 'noticed', 'discarded', 'mcdonald', 'container', ',', 'surounded', 'buzzing', 'flies', 'annoying', '.']\n"
     ]
    }
   ],
   "source": [
    "# loop to remove stop words\n",
    "for token in doc:\n",
    "    if token.is_stop == True:\n",
    "        continue\n",
    "    else:\n",
    "        cleaned_tokens.append(token.text.lower())\n",
    "print(cleaned_tokens)"
   ]
  },
  {
   "cell_type": "markdown",
   "id": "ce7e8f86-260a-47ff-ace1-6d2ea1067ee7",
   "metadata": {},
   "source": [
    "### Remove punctuation and whitespace"
   ]
  },
  {
   "cell_type": "code",
   "execution_count": 16,
   "id": "e2901779-32d3-4eb0-a9f9-ad27bf61231a",
   "metadata": {},
   "outputs": [
    {
     "name": "stdout",
     "output_type": "stream",
     "text": [
      "['running', 'central', 'park', 'noticed', 'discarded', 'mcdonald', 'container', 'surounded', 'buzzing', 'flies', 'annoying']\n"
     ]
    }
   ],
   "source": [
    "## Adding onto our preprocessing for loop\n",
    "# For loop to remove stopwords & punctuation\n",
    "cleaned_tokens = []\n",
    "# For each token \n",
    "for token in doc:\n",
    "    \n",
    "    # If the token is a stopword,\n",
    "    if token.is_stop == True:\n",
    "        # skip it and move onto next token\n",
    "        continue \n",
    "    ##NEW: \n",
    "    # if the token is punctuation,\n",
    "    if token.is_punct == True:\n",
    "        # skip it and move onto next token\n",
    "        continue\n",
    "    # if the token is a whitespace  (spaces, new lines, etc)\n",
    "    if token.is_space == True:\n",
    "        # skip it and move onto next token\n",
    "        continue\n",
    "    \n",
    "    # Otherwise,\n",
    "    else: \n",
    "        # keep the tokens'.text for the final list of tokens\n",
    "        cleaned_tokens.append(token.text.lower())\n",
    "        \n",
    "print(cleaned_tokens)"
   ]
  },
  {
   "cell_type": "markdown",
   "id": "08b01de6-8224-4eb8-a9b4-0601d6029677",
   "metadata": {},
   "source": [
    "### obtain lemmas"
   ]
  },
  {
   "cell_type": "code",
   "execution_count": 17,
   "id": "5499b71f-e6f6-4552-b3f5-91daef87bbf3",
   "metadata": {},
   "outputs": [
    {
     "name": "stdout",
     "output_type": "stream",
     "text": [
      "['run', 'central', 'park', 'notice', 'discard', 'mcdonald', 'container', 'surounde', 'buzz', 'fly', 'annoying']\n"
     ]
    }
   ],
   "source": [
    "## Adding onto our preprocessing for loop\n",
    "# For loop to remove stopwords & punctuation\n",
    "cleaned_lemmas = []\n",
    "# For each token \n",
    "for token in doc:\n",
    "    \n",
    "    # If the token is a stopword,\n",
    "    if token.is_stop == True:\n",
    "        # skip it and move onto next token\n",
    "        continue \n",
    "    \n",
    "    # if the token is punctuation,\n",
    "    if token.is_punct == True:\n",
    "        # skip it and move onto next token\n",
    "        continue\n",
    "    # if the token is a whitespace  (spaces, new lines, etc)\n",
    "    if token.is_space == True:\n",
    "        # skip it and move onto next token\n",
    "        continue\n",
    "    \n",
    "    # Otherwise,\n",
    "    else: \n",
    "        # # keep the tokens'.text for the final list of tokens\n",
    "        # cleaned_tokens.append(token.text.lower())\n",
    "        # keep the tokens's .lemma_ for the final list of tokens\n",
    "        cleaned_lemmas.append(token.lemma_.lower())\n",
    "        \n",
    "print(cleaned_lemmas)"
   ]
  },
  {
   "cell_type": "markdown",
   "id": "dfbc9a68-a43b-44cf-9b09-823ba689dc8f",
   "metadata": {},
   "source": [
    "### compare cleaned tokens vs. cleaned lemmas"
   ]
  },
  {
   "cell_type": "code",
   "execution_count": 18,
   "id": "87df449b-4d1a-4ae8-97a3-123c6cc7b54b",
   "metadata": {},
   "outputs": [
    {
     "name": "stdout",
     "output_type": "stream",
     "text": [
      "Tokenized words:\n",
      " ['running', 'central', 'park', 'noticed', 'discarded', 'mcdonald', 'container', 'surounded', 'buzzing', 'flies', 'annoying'] \n",
      "\n",
      "Lemmatized words:\n",
      " ['run', 'central', 'park', 'notice', 'discard', 'mcdonald', 'container', 'surounde', 'buzz', 'fly', 'annoying']\n"
     ]
    }
   ],
   "source": [
    "# Compare text and lemmas\n",
    "print(\"Tokenized words:\\n\", cleaned_tokens,\"\\n\")\n",
    "print(\"Lemmatized words:\\n\", cleaned_lemmas)"
   ]
  },
  {
   "cell_type": "markdown",
   "id": "797a2f2c-89ae-467b-a13e-dcf771764de4",
   "metadata": {},
   "source": [
    "## Define function for preprocessing with SpaCy"
   ]
  },
  {
   "cell_type": "code",
   "execution_count": 19,
   "id": "00500a0d-ff1a-40ed-8cd2-d01c06f3a3c4",
   "metadata": {},
   "outputs": [],
   "source": [
    "# define function\n",
    "\n",
    "def preprocess_doc(doc, remove_stopwords=True, remove_punct=True, use_lemmas=False):\n",
    "    \"\"\"Temporary Fucntion - for Education Purposes (we will make something better below)\n",
    "    \"\"\"\n",
    "    tokens = [ ]\n",
    "    for token in doc:\n",
    "        # Check if should remove stopwords and if token is stopword\n",
    "        if (remove_stopwords == True) and (token.is_stop == True):\n",
    "            # Continue the loop with the next token\n",
    "            continue\n",
    "    \n",
    "        # Check if should remove stopwords and if token is stopword\n",
    "        if (remove_punct == True) and (token.is_punct == True):\n",
    "            continue\n",
    "    \n",
    "        # Check if should remove stopwords and if token is stopword\n",
    "        if (remove_punct == True) and (token.is_space == True):\n",
    "            continue\n",
    "    \n",
    "        ## Determine final form of output list of tokens/lemmas\n",
    "        if use_lemmas:\n",
    "            tokens.append(token.lemma_.lower())\n",
    "        else:\n",
    "            tokens.append(token.text.lower())\n",
    "    return tokens"
   ]
  },
  {
   "cell_type": "code",
   "execution_count": 20,
   "id": "b7c18518-8e10-46e1-ba8a-66eb6bf00ded",
   "metadata": {},
   "outputs": [
    {
     "name": "stdout",
     "output_type": "stream",
     "text": [
      "['while', 'running', 'in', 'central', 'park', ',', '\\n', 'i', 'noticed', 'a', 'discarded', 'mcdonald', \"'s\", 'container', ',', 'surounded', 'by', 'buzzing', 'flies', 'was', 'annoying', '.']\n"
     ]
    }
   ],
   "source": [
    "# run function with false args\n",
    "\n",
    "# Convert the text to a doc.\n",
    "doc = nlp(sample_text)\n",
    "# Tokenizing, keeping stopwords and punctuatin\n",
    "dirty_tokens = preprocess_doc(doc, remove_stopwords=False,remove_punct=False)\n",
    "print(dirty_tokens)"
   ]
  },
  {
   "cell_type": "code",
   "execution_count": 21,
   "id": "bc782770-86ce-4d58-b9af-cc484b0c37d9",
   "metadata": {},
   "outputs": [
    {
     "name": "stdout",
     "output_type": "stream",
     "text": [
      "['running', 'central', 'park', 'noticed', 'discarded', 'mcdonald', 'container', 'surounded', 'buzzing', 'flies', 'annoying']\n"
     ]
    }
   ],
   "source": [
    "# run function with true args\n",
    "# Tokenizing, removing stopwords and punctuation\n",
    "cleaned_tokens = preprocess_doc(doc, remove_stopwords=True,remove_punct=True)\n",
    "print(cleaned_tokens)"
   ]
  },
  {
   "cell_type": "code",
   "execution_count": 22,
   "id": "5c2551df-6075-4b78-bdad-10730727b3b3",
   "metadata": {},
   "outputs": [
    {
     "name": "stdout",
     "output_type": "stream",
     "text": [
      "['run', 'central', 'park', 'notice', 'discard', 'mcdonald', 'container', 'surounde', 'buzz', 'fly', 'annoying']\n"
     ]
    }
   ],
   "source": [
    "# run function with all true args\n",
    "# Lemmatizing, removing stopwords and punctuation\n",
    "cleaned_lemmas = preprocess_doc(doc, remove_stopwords=True,remove_punct=True, use_lemmas=True)\n",
    "print(cleaned_lemmas)"
   ]
  },
  {
   "cell_type": "markdown",
   "id": "44c6764f-925c-475f-8c0a-c6e3129c189b",
   "metadata": {},
   "source": [
    "## Batch Preprocessing with SpaCy\n",
    "\n",
    "To do so, we do not process our doc with the nlp pipeline directly, as before.\r\n",
    "\r\n",
    "Instead, we begin a for loop through through a collection of texts. nlp.pipe(list_of_texts)"
   ]
  },
  {
   "cell_type": "code",
   "execution_count": 23,
   "id": "d3e72934-5cf5-46a0-b0b9-94801ce258e0",
   "metadata": {},
   "outputs": [],
   "source": [
    "# define batch function\n",
    "def batch_preprocess_texts(\n",
    "    texts,\n",
    "    nlp=None,\n",
    "    remove_stopwords=True,\n",
    "    remove_punct=True,\n",
    "    use_lemmas=False,\n",
    "    disable=[\"ner\"],\n",
    "    batch_size=50,\n",
    "    n_process=-1,\n",
    "):\n",
    "    \"\"\"Efficiently preprocess a collection of texts using nlp.pipe()\n",
    "    Args:\n",
    "        texts (collection of strings): collection of texts to process (e.g. df['text'])\n",
    "        nlp (spacy pipe), optional): Spacy nlp pipe. Defaults to None; if None, it creates a default 'en_core_web_sm' pipe.\n",
    "        remove_stopwords (bool, optional): Controls stopword removal. Defaults to True.\n",
    "        remove_punct (bool, optional): Controls punctuation removal. Defaults to True.\n",
    "        use_lemmas (bool, optional): lemmatize tokens. Defaults to False.\n",
    "        disable (list of strings, optional): named pipeline elements to disable. Defaults to [\"ner\"]: Used with nlp.pipe(disable=disable)\n",
    "        batch_size (int, optional): Number of texts to process in a batch. Defaults to 50.\n",
    "        n_process (int, optional): Number of CPU processors to use. Defaults to -1 (meaning all CPU cores).\n",
    "    Returns:\n",
    "        list of tokens\n",
    "    \"\"\"\n",
    "    # from tqdm.notebook import tqdm\n",
    "    from tqdm import tqdm\n",
    "    if nlp is None:\n",
    "        nlp = spacy.load(\"en_core_web_sm\")\n",
    "    processed_texts = []\n",
    "    for doc in tqdm(nlp.pipe(texts, disable=disable, batch_size=batch_size, n_process=n_process)):\n",
    "        tokens = []\n",
    "        for token in doc:\n",
    "            # Check if should remove stopwords and if token is stopword\n",
    "            if (remove_stopwords == True) and (token.is_stop == True):\n",
    "                # Continue the loop with the next token\n",
    "                continue\n",
    "            # Check if should remove stopwords and if token is stopword\n",
    "            if (remove_punct == True) and (token.is_punct == True):\n",
    "                continue\n",
    "            # Check if should remove stopwords and if token is stopword\n",
    "            if (remove_punct == True) and (token.is_space == True):\n",
    "                continue\n",
    "            \n",
    "            ## Determine final form of output list of tokens/lemmas\n",
    "            if use_lemmas:\n",
    "                tokens.append(token.lemma_.lower())\n",
    "            else:\n",
    "                tokens.append(token.text.lower())\n",
    "        processed_texts.append(tokens)\n",
    "    return processed_texts"
   ]
  },
  {
   "cell_type": "code",
   "execution_count": 24,
   "id": "c2b7ce94-f9f7-436f-b73c-82a0bad805f6",
   "metadata": {},
   "outputs": [
    {
     "name": "stderr",
     "output_type": "stream",
     "text": [
      "1it [00:18, 18.63s/it]"
     ]
    },
    {
     "name": "stdout",
     "output_type": "stream",
     "text": [
      "['running', 'central', 'park', 'noticed', 'discarded', 'mcdonald', 'container', 'surounded', 'buzzing', 'flies', 'annoying']\n"
     ]
    },
    {
     "name": "stderr",
     "output_type": "stream",
     "text": [
      "\n"
     ]
    }
   ],
   "source": [
    "# run function\n",
    "\n",
    "# Default args will produce tokens\n",
    "tokens = batch_preprocess_texts([sample_text])\n",
    "tokens = tokens[0]\n",
    "print(tokens)"
   ]
  },
  {
   "cell_type": "markdown",
   "id": "641cff62-6c81-4aaf-8f06-105bbcf654bc",
   "metadata": {},
   "source": [
    "### More with SpaCy docs (metadata)"
   ]
  },
  {
   "cell_type": "code",
   "execution_count": 25,
   "id": "80d54f85-404c-49d8-8e95-01fbf70d5939",
   "metadata": {},
   "outputs": [
    {
     "data": {
      "text/plain": [
       "3"
      ]
     },
     "execution_count": 25,
     "metadata": {},
     "output_type": "execute_result"
    }
   ],
   "source": [
    "# Extracting sentences from doc\n",
    "\n",
    "sample_text = \"While running in Central Park, I noticed that the constant buzzing of flies was annoying. However, I couldn't be too upset as they were likely attracted to the McDonald's food that someone carelessly dropped. I wondered, 'How can they be so uncaring?'\"\n",
    "doc = nlp(sample_text)\n",
    "\n",
    "\n",
    "sentences = list(doc.sents)\n",
    "len(sentences)"
   ]
  },
  {
   "cell_type": "code",
   "execution_count": 26,
   "id": "4cfb201c-8789-4361-9e58-dc8c0aee2229",
   "metadata": {},
   "outputs": [
    {
     "data": {
      "text/plain": [
       "While running in Central Park, I noticed that the constant buzzing of flies was annoying."
      ]
     },
     "execution_count": 26,
     "metadata": {},
     "output_type": "execute_result"
    }
   ],
   "source": [
    "# Display the first sentence\n",
    "sentences[0]"
   ]
  },
  {
   "cell_type": "code",
   "execution_count": 27,
   "id": "f7a5de63-dbcc-47a1-9085-237275345be7",
   "metadata": {},
   "outputs": [
    {
     "name": "stdout",
     "output_type": "stream",
     "text": [
      "Central Park LOC\n",
      "McDonald ORG\n"
     ]
    }
   ],
   "source": [
    "# Print any named entities in the doc and its label\n",
    "for ent in doc.ents:\n",
    "    print(ent.text, ent.label_)"
   ]
  },
  {
   "cell_type": "markdown",
   "id": "c79ac527-3a15-4a51-b616-ae34ced7d14f",
   "metadata": {},
   "source": [
    "# Practice - SpaCy and FreqDist\n",
    "\n",
    "Return to the Dracula text from the word clouds practice assignment. You can continue working in the same notebook. (Bram Stoker's Dracula text found here. Refer to the top of the lesson \"Word Cloud\" for assistance in reading in the .txt. data.)ms_texts function"
   ]
  },
  {
   "cell_type": "raw",
   "id": "163571fb-82cf-4558-814a-6374652d6ad3",
   "metadata": {},
   "source": [
    "Your task is to create a frequency plot of:\n",
    "\n",
    "the 30 most common tokens in Dracula\n",
    "the 30 most common lemmas in Dracula\n",
    "Define a spaCy pipeline using 'en_core_web_sm'\n",
    "Create a spaCy doc object from the Dracula text\n",
    "Create tokens\n",
    "exclude stopwords\n",
    "exclude punctuation\n",
    "Obtain the frequency distribution of the 30 most common tokens\n",
    "Create lemmas\n",
    "exclude stopwords\n",
    "exclude punctuation\n",
    "Obtain the frequency distribution of the 30 most common lemmas\n",
    "Hint: Use the custom batch_preprocess_texts function"
   ]
  },
  {
   "cell_type": "markdown",
   "id": "fdd31690-80c4-44ef-94cc-9b7b84f683a7",
   "metadata": {},
   "source": [
    "## Load data"
   ]
  },
  {
   "cell_type": "code",
   "execution_count": 31,
   "id": "5f85e89e-4d5d-4b06-824f-360c7f8d5421",
   "metadata": {},
   "outputs": [
    {
     "name": "stdout",
     "output_type": "stream",
     "text": [
      "There are 846555 characters in the full text.\n",
      "\n"
     ]
    }
   ],
   "source": [
    "# load data\n",
    "# Define the filepath\n",
    "fpath= \"Data/Dracula.txt\"\n",
    "# Use with open syntax\n",
    "with open(fpath, encoding = \"utf-8\") as f:\n",
    "    txt = f.read()\n",
    "# Report length of the text\n",
    "print(f\"There are {len(txt)} characters in the full text.\\n\")"
   ]
  },
  {
   "cell_type": "markdown",
   "id": "3394633e-9002-43ba-b316-8e14c55c66a5",
   "metadata": {},
   "source": [
    "## Imports"
   ]
  },
  {
   "cell_type": "code",
   "execution_count": 32,
   "id": "8c0a9886-5582-47c0-9a64-ea34fa6709b4",
   "metadata": {},
   "outputs": [],
   "source": [
    "# packages\n",
    "\n",
    "from nltk.probability import FreqDist"
   ]
  },
  {
   "cell_type": "code",
   "execution_count": 33,
   "id": "c09eff78-6d69-433e-a0a3-6105ab88abcb",
   "metadata": {},
   "outputs": [],
   "source": [
    "# functions\n",
    "def batch_preprocess_texts(\n",
    "    texts,\n",
    "    nlp=None,\n",
    "    remove_stopwords=True,\n",
    "    remove_punct=True,\n",
    "    use_lemmas=False,\n",
    "    disable=[\"ner\"],\n",
    "    batch_size=50,\n",
    "    n_process=-1,\n",
    "):\n",
    "    \"\"\"Efficiently preprocess a collection of texts using nlp.pipe()\n",
    "    Args:\n",
    "        texts (collection of strings): collection of texts to process (e.g. df['text'])\n",
    "        nlp (spacy pipe), optional): Spacy nlp pipe. Defaults to None; if None, it creates a default 'en_core_web_sm' pipe.\n",
    "        remove_stopwords (bool, optional): Controls stopword removal. Defaults to True.\n",
    "        remove_punct (bool, optional): Controls punctuation removal. Defaults to True.\n",
    "        use_lemmas (bool, optional): lemmatize tokens. Defaults to False.\n",
    "        disable (list of strings, optional): named pipeline elements to disable. Defaults to [\"ner\"]: Used with nlp.pipe(disable=disable)\n",
    "        batch_size (int, optional): Number of texts to process in a batch. Defaults to 50.\n",
    "        n_process (int, optional): Number of CPU processors to use. Defaults to -1 (meaning all CPU cores).\n",
    "    Returns:\n",
    "        list of tokens\n",
    "    \"\"\"\n",
    "    # from tqdm.notebook import tqdm\n",
    "    from tqdm import tqdm\n",
    "    if nlp is None:\n",
    "        nlp = spacy.load(\"en_core_web_sm\")\n",
    "    processed_texts = []\n",
    "    for doc in tqdm(nlp.pipe(texts, disable=disable, batch_size=batch_size, n_process=n_process)):\n",
    "        tokens = []\n",
    "        for token in doc:\n",
    "            # Check if should remove stopwords and if token is stopword\n",
    "            if (remove_stopwords == True) and (token.is_stop == True):\n",
    "                # Continue the loop with the next token\n",
    "                continue\n",
    "            # Check if should remove stopwords and if token is stopword\n",
    "            if (remove_punct == True) and (token.is_punct == True):\n",
    "                continue\n",
    "            # Check if should remove stopwords and if token is stopword\n",
    "            if (remove_punct == True) and (token.is_space == True):\n",
    "                continue\n",
    "            \n",
    "            ## Determine final form of output list of tokens/lemmas\n",
    "            if use_lemmas:\n",
    "                tokens.append(token.lemma_.lower())\n",
    "            else:\n",
    "                tokens.append(token.text.lower())\n",
    "        processed_texts.append(tokens)\n",
    "    return processed_texts"
   ]
  },
  {
   "cell_type": "markdown",
   "id": "02d84cd6-497f-47e5-86eb-62b001f2613b",
   "metadata": {},
   "source": [
    "### the 30 most common tokens in Dracula"
   ]
  },
  {
   "cell_type": "code",
   "execution_count": 35,
   "id": "8c0a5b2d-e118-4d3e-a470-0eb6561ffdb6",
   "metadata": {},
   "outputs": [
    {
     "name": "stderr",
     "output_type": "stream",
     "text": [
      "1it [00:25, 25.29s/it]\n"
     ]
    }
   ],
   "source": [
    "# run function to get tokens\n",
    "tokens = batch_preprocess_texts([txt])"
   ]
  },
  {
   "cell_type": "code",
   "execution_count": 36,
   "id": "f288a072-a863-4bcb-b156-4dbdfe22bd4c",
   "metadata": {},
   "outputs": [],
   "source": [
    "tokens = tokens[0]"
   ]
  },
  {
   "cell_type": "code",
   "execution_count": 37,
   "id": "86e6ae7f-15a8-407c-a3ba-e813597cadd2",
   "metadata": {},
   "outputs": [
    {
     "data": {
      "text/plain": [
       "['dracula',\n",
       " 'bram',\n",
       " 'stoker',\n",
       " 'illustration',\n",
       " 'colophon',\n",
       " 'new',\n",
       " 'york',\n",
       " 'grosset',\n",
       " 'dunlap',\n",
       " 'publishers',\n",
       " 'copyright',\n",
       " '1897',\n",
       " 'united',\n",
       " 'states',\n",
       " 'america',\n",
       " 'according',\n",
       " 'act',\n",
       " 'congress',\n",
       " 'bram',\n",
       " 'stoker',\n",
       " 'rights',\n",
       " 'reserved',\n",
       " 'printed',\n",
       " 'united',\n",
       " 'states',\n",
       " 'country',\n",
       " 'life',\n",
       " 'press',\n",
       " 'garden',\n",
       " 'city',\n",
       " 'n.y.',\n",
       " 'dear',\n",
       " 'friend',\n",
       " 'hommy',\n",
       " 'beg',\n",
       " 'contents',\n",
       " 'chapter',\n",
       " 'i.',\n",
       " 'jonathan',\n",
       " 'harker',\n",
       " 'journal',\n",
       " 'chapter',\n",
       " 'ii',\n",
       " 'jonathan',\n",
       " 'harker',\n",
       " 'journal',\n",
       " 'chapter',\n",
       " 'iii',\n",
       " 'jonathan',\n",
       " 'harker',\n",
       " 'journal',\n",
       " 'chapter',\n",
       " 'iv',\n",
       " 'jonathan',\n",
       " 'harker',\n",
       " 'journal',\n",
       " 'chapter',\n",
       " 'v.',\n",
       " 'letters',\n",
       " 'lucy',\n",
       " 'mina',\n",
       " 'chapter',\n",
       " 'vi',\n",
       " 'mina',\n",
       " 'murray',\n",
       " 'journal',\n",
       " 'chapter',\n",
       " 'vii',\n",
       " 'cutting',\n",
       " 'dailygraph',\n",
       " '8',\n",
       " 'august',\n",
       " 'chapter',\n",
       " 'viii',\n",
       " 'mina',\n",
       " 'murray',\n",
       " 'journal',\n",
       " 'chapter',\n",
       " 'ix',\n",
       " 'mina',\n",
       " 'murray',\n",
       " 'journal',\n",
       " 'chapter',\n",
       " 'x.',\n",
       " 'mina',\n",
       " 'murray',\n",
       " 'journal',\n",
       " 'chapter',\n",
       " 'xi',\n",
       " 'lucy',\n",
       " 'westenra',\n",
       " 'diary',\n",
       " 'chapter',\n",
       " 'xii',\n",
       " 'dr.',\n",
       " 'seward',\n",
       " 'diary',\n",
       " 'chapter',\n",
       " 'xiii',\n",
       " 'dr.',\n",
       " 'seward',\n",
       " 'diary',\n",
       " 'chapter',\n",
       " 'xiv',\n",
       " 'mina',\n",
       " 'harker',\n",
       " 'journal',\n",
       " 'chapter',\n",
       " 'xv',\n",
       " 'dr.',\n",
       " 'seward',\n",
       " 'diary',\n",
       " 'chapter',\n",
       " 'xvi',\n",
       " 'dr.',\n",
       " 'seward',\n",
       " 'diary',\n",
       " 'chapter',\n",
       " 'xvii',\n",
       " 'dr.',\n",
       " 'seward',\n",
       " 'diary',\n",
       " 'chapter',\n",
       " 'xviii',\n",
       " 'dr.',\n",
       " 'seward',\n",
       " 'diary',\n",
       " 'chapter',\n",
       " 'xix',\n",
       " 'jonathan',\n",
       " 'harker',\n",
       " 'journal',\n",
       " 'chapter',\n",
       " 'xx',\n",
       " 'jonathan',\n",
       " 'harker',\n",
       " 'journal',\n",
       " 'chapter',\n",
       " 'xxi',\n",
       " 'dr.',\n",
       " 'seward',\n",
       " 'diary',\n",
       " 'chapter',\n",
       " 'xxii',\n",
       " 'jonathan',\n",
       " 'harker',\n",
       " 'journal',\n",
       " 'chapter',\n",
       " 'xxiii',\n",
       " 'dr.',\n",
       " 'seward',\n",
       " 'diary',\n",
       " 'chapter',\n",
       " 'xxiv',\n",
       " 'dr.',\n",
       " 'seward',\n",
       " 'phonograph',\n",
       " 'diary',\n",
       " 'spoken',\n",
       " 'van',\n",
       " 'helsing',\n",
       " 'chapter',\n",
       " 'xxv',\n",
       " 'dr.',\n",
       " 'seward',\n",
       " 'diary',\n",
       " 'chapter',\n",
       " 'xxvi',\n",
       " 'dr.',\n",
       " 'seward',\n",
       " 'diary',\n",
       " 'chapter',\n",
       " 'xxvii',\n",
       " 'mina',\n",
       " 'harker',\n",
       " 'journal',\n",
       " 'papers',\n",
       " 'placed',\n",
       " 'sequence',\n",
       " 'manifest',\n",
       " 'reading',\n",
       " 'needless',\n",
       " 'matters',\n",
       " 'eliminated',\n",
       " 'history',\n",
       " 'variance',\n",
       " 'possibilities',\n",
       " 'later',\n",
       " 'day',\n",
       " 'belief',\n",
       " 'stand',\n",
       " 'forth',\n",
       " 'simple',\n",
       " 'fact',\n",
       " 'statement',\n",
       " 'past',\n",
       " 'things',\n",
       " 'memory',\n",
       " 'err',\n",
       " 'records',\n",
       " 'chosen',\n",
       " 'exactly',\n",
       " 'contemporary',\n",
       " 'given',\n",
       " 'standpoints',\n",
       " 'range',\n",
       " 'knowledge',\n",
       " 'dracula',\n",
       " 'chapter',\n",
       " 'jonathan',\n",
       " 'harker',\n",
       " 'journal',\n",
       " 'kept',\n",
       " 'shorthand',\n",
       " '3',\n",
       " 'bistritz._--left',\n",
       " 'munich',\n",
       " '8:35',\n",
       " 'p.',\n",
       " 'm.',\n",
       " '1st',\n",
       " 'arriving',\n",
       " 'vienna',\n",
       " 'early',\n",
       " 'morning',\n",
       " 'arrived',\n",
       " '6:46',\n",
       " 'train',\n",
       " 'hour',\n",
       " 'late',\n",
       " 'buda',\n",
       " 'pesth',\n",
       " 'wonderful',\n",
       " 'place',\n",
       " 'glimpse',\n",
       " 'got',\n",
       " 'train',\n",
       " 'little',\n",
       " 'walk',\n",
       " 'streets',\n",
       " 'feared',\n",
       " 'far',\n",
       " 'station',\n",
       " 'arrived',\n",
       " 'late',\n",
       " 'start',\n",
       " 'near',\n",
       " 'correct',\n",
       " 'time',\n",
       " 'possible',\n",
       " 'impression',\n",
       " 'leaving',\n",
       " 'west',\n",
       " 'entering',\n",
       " 'east',\n",
       " 'western',\n",
       " 'splendid',\n",
       " 'bridges',\n",
       " 'danube',\n",
       " 'noble',\n",
       " 'width',\n",
       " 'depth',\n",
       " 'took',\n",
       " 'traditions',\n",
       " 'turkish',\n",
       " 'rule',\n",
       " 'left',\n",
       " 'pretty',\n",
       " 'good',\n",
       " 'time',\n",
       " 'came',\n",
       " 'nightfall',\n",
       " 'klausenburgh',\n",
       " 'stopped',\n",
       " 'night',\n",
       " 'hotel',\n",
       " 'royale',\n",
       " 'dinner',\n",
       " 'supper',\n",
       " 'chicken',\n",
       " 'way',\n",
       " 'red',\n",
       " 'pepper',\n",
       " 'good',\n",
       " 'thirsty',\n",
       " 'mem',\n",
       " 'recipe',\n",
       " 'mina',\n",
       " 'asked',\n",
       " 'waiter',\n",
       " 'said',\n",
       " 'called',\n",
       " 'paprika',\n",
       " 'hendl',\n",
       " 'national',\n",
       " 'dish',\n",
       " 'able',\n",
       " 'carpathians',\n",
       " 'found',\n",
       " 'smattering',\n",
       " 'german',\n",
       " 'useful',\n",
       " 'know',\n",
       " 'able',\n",
       " 'having',\n",
       " 'time',\n",
       " 'disposal',\n",
       " 'london',\n",
       " 'visited',\n",
       " 'british',\n",
       " 'museum',\n",
       " 'search',\n",
       " 'books',\n",
       " 'maps',\n",
       " 'library',\n",
       " 'transylvania',\n",
       " 'struck',\n",
       " 'foreknowledge',\n",
       " 'country',\n",
       " 'hardly',\n",
       " 'fail',\n",
       " 'importance',\n",
       " 'dealing',\n",
       " 'nobleman',\n",
       " 'country',\n",
       " 'find',\n",
       " 'district',\n",
       " 'named',\n",
       " 'extreme',\n",
       " 'east',\n",
       " 'country',\n",
       " 'borders',\n",
       " 'states',\n",
       " 'transylvania',\n",
       " 'moldavia',\n",
       " 'bukovina',\n",
       " 'midst',\n",
       " 'carpathian',\n",
       " 'mountains',\n",
       " 'wildest',\n",
       " 'known',\n",
       " 'portions',\n",
       " 'europe',\n",
       " 'able',\n",
       " 'light',\n",
       " 'map',\n",
       " 'work',\n",
       " 'giving',\n",
       " 'exact',\n",
       " 'locality',\n",
       " 'castle',\n",
       " 'dracula',\n",
       " 'maps',\n",
       " 'country',\n",
       " 'compare',\n",
       " 'ordnance',\n",
       " 'survey',\n",
       " 'maps',\n",
       " 'found',\n",
       " 'bistritz',\n",
       " 'post',\n",
       " 'town',\n",
       " 'named',\n",
       " 'count',\n",
       " 'dracula',\n",
       " 'fairly',\n",
       " 'known',\n",
       " 'place',\n",
       " 'shall',\n",
       " 'enter',\n",
       " 'notes',\n",
       " 'refresh',\n",
       " 'memory',\n",
       " 'talk',\n",
       " 'travels',\n",
       " 'mina',\n",
       " 'population',\n",
       " 'transylvania',\n",
       " 'distinct',\n",
       " 'nationalities',\n",
       " 'saxons',\n",
       " 'south',\n",
       " 'mixed',\n",
       " 'wallachs',\n",
       " 'descendants',\n",
       " 'dacians',\n",
       " 'magyars',\n",
       " 'west',\n",
       " 'szekelys',\n",
       " 'east',\n",
       " 'north',\n",
       " 'going',\n",
       " 'claim',\n",
       " 'descended',\n",
       " 'attila',\n",
       " 'huns',\n",
       " 'magyars',\n",
       " 'conquered',\n",
       " 'country',\n",
       " 'eleventh',\n",
       " 'century',\n",
       " 'found',\n",
       " 'huns',\n",
       " 'settled',\n",
       " 'read',\n",
       " 'known',\n",
       " 'superstition',\n",
       " 'world',\n",
       " 'gathered',\n",
       " 'horseshoe',\n",
       " 'carpathians',\n",
       " 'centre',\n",
       " 'sort',\n",
       " 'imaginative',\n",
       " 'whirlpool',\n",
       " 'stay',\n",
       " 'interesting',\n",
       " 'mem',\n",
       " 'ask',\n",
       " 'count',\n",
       " 'sleep',\n",
       " 'bed',\n",
       " 'comfortable',\n",
       " 'sorts',\n",
       " 'queer',\n",
       " 'dreams',\n",
       " 'dog',\n",
       " 'howling',\n",
       " 'night',\n",
       " 'window',\n",
       " 'paprika',\n",
       " 'drink',\n",
       " 'water',\n",
       " 'carafe',\n",
       " 'thirsty',\n",
       " 'morning',\n",
       " 'slept',\n",
       " 'wakened',\n",
       " 'continuous',\n",
       " 'knocking',\n",
       " 'door',\n",
       " 'guess',\n",
       " 'sleeping',\n",
       " 'soundly',\n",
       " 'breakfast',\n",
       " 'paprika',\n",
       " 'sort',\n",
       " 'porridge',\n",
       " 'maize',\n",
       " 'flour',\n",
       " 'said',\n",
       " 'mamaliga',\n",
       " 'egg',\n",
       " 'plant',\n",
       " 'stuffed',\n",
       " 'forcemeat',\n",
       " 'excellent',\n",
       " 'dish',\n",
       " 'impletata',\n",
       " 'mem',\n",
       " 'recipe',\n",
       " 'hurry',\n",
       " 'breakfast',\n",
       " 'train',\n",
       " 'started',\n",
       " 'little',\n",
       " 'ought',\n",
       " 'rushing',\n",
       " 'station',\n",
       " '7:30',\n",
       " 'sit',\n",
       " 'carriage',\n",
       " 'hour',\n",
       " 'began',\n",
       " 'east',\n",
       " 'unpunctual',\n",
       " 'trains',\n",
       " 'ought',\n",
       " 'china',\n",
       " 'day',\n",
       " 'long',\n",
       " 'dawdle',\n",
       " 'country',\n",
       " 'beauty',\n",
       " 'kind',\n",
       " 'saw',\n",
       " 'little',\n",
       " 'towns',\n",
       " 'castles',\n",
       " 'steep',\n",
       " 'hills',\n",
       " 'old',\n",
       " 'missals',\n",
       " 'ran',\n",
       " 'rivers',\n",
       " 'streams',\n",
       " 'wide',\n",
       " 'stony',\n",
       " 'margin',\n",
       " 'subject',\n",
       " 'great',\n",
       " 'floods',\n",
       " 'takes',\n",
       " 'lot',\n",
       " 'water',\n",
       " 'running',\n",
       " 'strong',\n",
       " 'sweep',\n",
       " 'outside',\n",
       " 'edge',\n",
       " 'river',\n",
       " 'clear',\n",
       " 'station',\n",
       " 'groups',\n",
       " 'people',\n",
       " 'crowds',\n",
       " 'sorts',\n",
       " 'attire',\n",
       " 'like',\n",
       " 'peasants',\n",
       " 'home',\n",
       " 'saw',\n",
       " 'coming',\n",
       " 'france',\n",
       " 'germany',\n",
       " 'short',\n",
       " 'jackets',\n",
       " 'round',\n",
       " 'hats',\n",
       " 'home',\n",
       " 'trousers',\n",
       " 'picturesque',\n",
       " 'women',\n",
       " 'looked',\n",
       " 'pretty',\n",
       " 'got',\n",
       " 'near',\n",
       " 'clumsy',\n",
       " 'waist',\n",
       " 'white',\n",
       " 'sleeves',\n",
       " 'kind',\n",
       " 'big',\n",
       " 'belts',\n",
       " 'lot',\n",
       " 'strips',\n",
       " 'fluttering',\n",
       " 'like',\n",
       " 'dresses',\n",
       " 'ballet',\n",
       " 'course',\n",
       " 'petticoats',\n",
       " 'strangest',\n",
       " 'figures',\n",
       " 'saw',\n",
       " 'slovaks',\n",
       " 'barbarian',\n",
       " 'rest',\n",
       " 'big',\n",
       " 'cow',\n",
       " 'boy',\n",
       " 'hats',\n",
       " 'great',\n",
       " 'baggy',\n",
       " 'dirty',\n",
       " 'white',\n",
       " 'trousers',\n",
       " 'white',\n",
       " 'linen',\n",
       " 'shirts',\n",
       " 'enormous',\n",
       " 'heavy',\n",
       " 'leather',\n",
       " 'belts',\n",
       " 'nearly',\n",
       " 'foot',\n",
       " 'wide',\n",
       " 'studded',\n",
       " 'brass',\n",
       " 'nails',\n",
       " 'wore',\n",
       " 'high',\n",
       " 'boots',\n",
       " 'trousers',\n",
       " 'tucked',\n",
       " 'long',\n",
       " 'black',\n",
       " 'hair',\n",
       " 'heavy',\n",
       " 'black',\n",
       " 'moustaches',\n",
       " 'picturesque',\n",
       " 'look',\n",
       " 'prepossessing',\n",
       " 'stage',\n",
       " 'set',\n",
       " 'old',\n",
       " 'oriental',\n",
       " 'band',\n",
       " 'brigands',\n",
       " 'told',\n",
       " 'harmless',\n",
       " 'wanting',\n",
       " 'natural',\n",
       " 'self',\n",
       " 'assertion',\n",
       " 'dark',\n",
       " 'twilight',\n",
       " 'got',\n",
       " 'bistritz',\n",
       " 'interesting',\n",
       " 'old',\n",
       " 'place',\n",
       " 'practically',\n",
       " 'frontier',\n",
       " 'borgo',\n",
       " 'pass',\n",
       " 'leads',\n",
       " 'bukovina',\n",
       " 'stormy',\n",
       " 'existence',\n",
       " 'certainly',\n",
       " 'shows',\n",
       " 'marks',\n",
       " 'years',\n",
       " 'ago',\n",
       " 'series',\n",
       " 'great',\n",
       " 'fires',\n",
       " 'took',\n",
       " 'place',\n",
       " 'terrible',\n",
       " 'havoc',\n",
       " 'separate',\n",
       " 'occasions',\n",
       " 'beginning',\n",
       " 'seventeenth',\n",
       " 'century',\n",
       " 'underwent',\n",
       " 'siege',\n",
       " 'weeks',\n",
       " 'lost',\n",
       " '13,000',\n",
       " 'people',\n",
       " 'casualties',\n",
       " 'war',\n",
       " 'proper',\n",
       " 'assisted',\n",
       " 'famine',\n",
       " 'disease',\n",
       " 'count',\n",
       " 'dracula',\n",
       " 'directed',\n",
       " 'golden',\n",
       " 'krone',\n",
       " 'hotel',\n",
       " 'found',\n",
       " 'great',\n",
       " 'delight',\n",
       " 'thoroughly',\n",
       " 'old',\n",
       " 'fashioned',\n",
       " 'course',\n",
       " 'wanted',\n",
       " 'ways',\n",
       " 'country',\n",
       " 'evidently',\n",
       " 'expected',\n",
       " 'got',\n",
       " 'near',\n",
       " 'door',\n",
       " 'faced',\n",
       " 'cheery',\n",
       " 'looking',\n",
       " 'elderly',\n",
       " 'woman',\n",
       " 'usual',\n",
       " 'peasant',\n",
       " 'dress',\n",
       " 'white',\n",
       " 'undergarment',\n",
       " 'long',\n",
       " 'double',\n",
       " 'apron',\n",
       " 'coloured',\n",
       " 'stuff',\n",
       " 'fitting',\n",
       " 'tight',\n",
       " 'modesty',\n",
       " 'came',\n",
       " 'close',\n",
       " 'bowed',\n",
       " 'said',\n",
       " 'herr',\n",
       " 'englishman',\n",
       " 'yes',\n",
       " 'said',\n",
       " 'jonathan',\n",
       " 'harker',\n",
       " 'smiled',\n",
       " 'gave',\n",
       " 'message',\n",
       " 'elderly',\n",
       " 'man',\n",
       " 'white',\n",
       " 'shirt',\n",
       " 'sleeves',\n",
       " 'followed',\n",
       " 'door',\n",
       " 'went',\n",
       " 'immediately',\n",
       " 'returned',\n",
       " 'letter:--',\n",
       " 'friend.--welcome',\n",
       " 'carpathians',\n",
       " 'anxiously',\n",
       " 'expecting',\n",
       " 'sleep',\n",
       " 'night',\n",
       " 'morrow',\n",
       " 'diligence',\n",
       " 'start',\n",
       " 'bukovina',\n",
       " 'place',\n",
       " 'kept',\n",
       " 'borgo',\n",
       " 'pass',\n",
       " 'carriage',\n",
       " 'await',\n",
       " 'bring',\n",
       " 'trust',\n",
       " 'journey',\n",
       " 'london',\n",
       " 'happy',\n",
       " 'enjoy',\n",
       " 'stay',\n",
       " 'beautiful',\n",
       " 'land',\n",
       " 'friend',\n",
       " 'dracula',\n",
       " '4',\n",
       " 'may._--i',\n",
       " 'found',\n",
       " 'landlord',\n",
       " 'got',\n",
       " 'letter',\n",
       " 'count',\n",
       " 'directing',\n",
       " 'secure',\n",
       " 'best',\n",
       " 'place',\n",
       " 'coach',\n",
       " 'making',\n",
       " 'inquiries',\n",
       " 'details',\n",
       " 'somewhat',\n",
       " 'reticent',\n",
       " 'pretended',\n",
       " 'understand',\n",
       " 'german',\n",
       " 'true',\n",
       " 'understood',\n",
       " 'perfectly',\n",
       " 'answered',\n",
       " 'questions',\n",
       " 'exactly',\n",
       " 'wife',\n",
       " 'old',\n",
       " 'lady',\n",
       " 'received',\n",
       " 'looked',\n",
       " 'frightened',\n",
       " 'sort',\n",
       " 'way',\n",
       " 'mumbled',\n",
       " 'money',\n",
       " 'sent',\n",
       " 'letter',\n",
       " 'knew',\n",
       " 'asked',\n",
       " 'knew',\n",
       " 'count',\n",
       " 'dracula',\n",
       " 'tell',\n",
       " 'castle',\n",
       " 'wife',\n",
       " 'crossed',\n",
       " 'saying',\n",
       " 'knew',\n",
       " 'simply',\n",
       " 'refused',\n",
       " 'speak',\n",
       " 'near',\n",
       " 'time',\n",
       " 'starting',\n",
       " 'time',\n",
       " 'ask',\n",
       " 'mysterious',\n",
       " 'means',\n",
       " 'comforting',\n",
       " 'leaving',\n",
       " 'old',\n",
       " 'lady',\n",
       " 'came',\n",
       " 'room',\n",
       " 'said',\n",
       " 'hysterical',\n",
       " 'way',\n",
       " 'oh',\n",
       " 'young',\n",
       " 'herr',\n",
       " 'excited',\n",
       " 'state',\n",
       " 'lost',\n",
       " 'grip',\n",
       " 'german',\n",
       " 'knew',\n",
       " 'mixed',\n",
       " 'language',\n",
       " 'know',\n",
       " 'able',\n",
       " 'follow',\n",
       " 'asking',\n",
       " 'questions',\n",
       " 'told',\n",
       " 'engaged',\n",
       " 'important',\n",
       " 'business',\n",
       " 'asked',\n",
       " 'know',\n",
       " 'day',\n",
       " 'answered',\n",
       " 'fourth',\n",
       " 'shook',\n",
       " 'head',\n",
       " 'said',\n",
       " 'oh',\n",
       " 'yes',\n",
       " 'know',\n",
       " 'know',\n",
       " 'know',\n",
       " 'day',\n",
       " 'saying',\n",
       " 'understand',\n",
       " 'went',\n",
       " 'eve',\n",
       " 'st.',\n",
       " 'george',\n",
       " 'day',\n",
       " 'know',\n",
       " 'night',\n",
       " 'clock',\n",
       " 'strikes',\n",
       " 'midnight',\n",
       " 'evil',\n",
       " 'things',\n",
       " 'world',\n",
       " 'sway',\n",
       " 'know',\n",
       " 'going',\n",
       " 'going',\n",
       " 'evident',\n",
       " 'distress',\n",
       " 'tried',\n",
       " 'comfort',\n",
       " 'effect',\n",
       " 'finally',\n",
       " 'went',\n",
       " 'knees',\n",
       " 'implored',\n",
       " 'wait',\n",
       " 'day',\n",
       " 'starting',\n",
       " 'ridiculous',\n",
       " 'feel',\n",
       " 'comfortable',\n",
       " 'business',\n",
       " 'allow',\n",
       " 'interfere',\n",
       " 'tried',\n",
       " 'raise',\n",
       " 'said',\n",
       " 'gravely',\n",
       " 'thanked',\n",
       " 'duty',\n",
       " 'imperative',\n",
       " 'rose',\n",
       " 'dried',\n",
       " 'eyes',\n",
       " 'taking',\n",
       " 'crucifix',\n",
       " 'neck',\n",
       " 'offered',\n",
       " 'know',\n",
       " 'english',\n",
       " 'churchman',\n",
       " 'taught',\n",
       " 'regard',\n",
       " 'things',\n",
       " 'measure',\n",
       " 'idolatrous',\n",
       " 'ungracious',\n",
       " 'refuse',\n",
       " 'old',\n",
       " 'lady',\n",
       " 'meaning',\n",
       " 'state',\n",
       " 'mind',\n",
       " 'saw',\n",
       " 'suppose',\n",
       " 'doubt',\n",
       " 'face',\n",
       " 'rosary',\n",
       " 'round',\n",
       " 'neck',\n",
       " 'said',\n",
       " 'mother',\n",
       " 'sake',\n",
       " 'went',\n",
       " 'room',\n",
       " 'writing',\n",
       " 'diary',\n",
       " 'whilst',\n",
       " 'waiting',\n",
       " 'coach',\n",
       " 'course',\n",
       " 'late',\n",
       " 'crucifix',\n",
       " 'round',\n",
       " 'neck',\n",
       " 'old',\n",
       " 'lady',\n",
       " 'fear',\n",
       " 'ghostly',\n",
       " 'traditions',\n",
       " 'place',\n",
       " 'crucifix',\n",
       " 'know',\n",
       " 'feeling',\n",
       " 'nearly',\n",
       " 'easy',\n",
       " 'mind',\n",
       " 'usual',\n",
       " 'book',\n",
       " 'reach',\n",
       " 'mina',\n",
       " 'let',\n",
       " 'bring',\n",
       " 'good',\n",
       " 'bye',\n",
       " 'comes',\n",
       " 'coach',\n",
       " '5',\n",
       " 'castle._--the',\n",
       " 'grey',\n",
       " 'morning',\n",
       " 'passed',\n",
       " 'sun',\n",
       " 'high',\n",
       " 'distant',\n",
       " 'horizon',\n",
       " 'jagged',\n",
       " 'trees',\n",
       " 'hills',\n",
       " 'know',\n",
       " 'far',\n",
       " 'big',\n",
       " 'things',\n",
       " 'little',\n",
       " 'mixed',\n",
       " 'sleepy',\n",
       " 'called',\n",
       " 'till',\n",
       " 'awake',\n",
       " 'naturally',\n",
       " 'write',\n",
       " 'till',\n",
       " 'sleep',\n",
       " 'comes',\n",
       " 'odd',\n",
       " 'things',\n",
       " 'lest',\n",
       " 'reads',\n",
       " 'fancy',\n",
       " 'dined',\n",
       " 'left',\n",
       " 'bistritz',\n",
       " 'let',\n",
       " 'dinner',\n",
       " 'exactly',\n",
       " 'dined',\n",
       " 'called',\n",
       " 'robber',\n",
       " 'steak”--bits',\n",
       " 'bacon',\n",
       " 'onion',\n",
       " 'beef',\n",
       " 'seasoned',\n",
       " 'red',\n",
       " 'pepper',\n",
       " ...]"
      ]
     },
     "execution_count": 37,
     "metadata": {},
     "output_type": "execute_result"
    }
   ],
   "source": [
    "# view tokens\n",
    "tokens"
   ]
  },
  {
   "cell_type": "code",
   "execution_count": 38,
   "id": "4d838f3b-216a-4e96-83fb-32bf451d0ce7",
   "metadata": {},
   "outputs": [],
   "source": [
    "# initialize freqdist obj\n",
    "dist = FreqDist(tokens)"
   ]
  },
  {
   "cell_type": "code",
   "execution_count": 41,
   "id": "feb1f8f6-0920-495b-8946-4537857c7067",
   "metadata": {},
   "outputs": [
    {
     "data": {
      "image/png": "[encoded data removed]",
      "text/plain": [
       "<Figure size 640x480 with 1 Axes>"
      ]
     },
     "metadata": {},
     "output_type": "display_data"
    }
   ],
   "source": [
    "dist.plot(30, title='Frequency of Tokens in Dracula');"
   ]
  },
  {
   "cell_type": "markdown",
   "id": "0588a146-2a3c-45a9-8d51-c3a1a9ab45bf",
   "metadata": {},
   "source": [
    "### the 30 most common lemmas in Dracula"
   ]
  },
  {
   "cell_type": "code",
   "execution_count": 65,
   "id": "dedc6649-fe01-427c-a1d6-352f99a2068e",
   "metadata": {},
   "outputs": [
    {
     "name": "stderr",
     "output_type": "stream",
     "text": [
      "1it [00:26, 26.42s/it]\n"
     ]
    },
    {
     "data": {
      "text/plain": [
       "['dracula',\n",
       " 'bram',\n",
       " 'stoker',\n",
       " 'illustration',\n",
       " 'colophon',\n",
       " 'new',\n",
       " 'york',\n",
       " 'grosset',\n",
       " 'dunlap',\n",
       " 'publisher',\n",
       " 'copyright',\n",
       " '1897',\n",
       " 'united',\n",
       " 'states',\n",
       " 'america',\n",
       " 'accord',\n",
       " 'act',\n",
       " 'congress',\n",
       " 'bram',\n",
       " 'stoker']"
      ]
     },
     "execution_count": 65,
     "metadata": {},
     "output_type": "execute_result"
    }
   ],
   "source": [
    "# Use custom function to obtain lemmas (add use_lemmas = True)\n",
    "lemmas = batch_preprocess_texts([txt], use_lemmas = True)\n",
    "lemmas = lemmas[0]\n",
    "lemmas[:20]"
   ]
  },
  {
   "cell_type": "code",
   "execution_count": 66,
   "id": "0e948e2f-8a77-4de9-9afc-37373dab4a57",
   "metadata": {},
   "outputs": [],
   "source": [
    "dist = FreqDist(lemmas)"
   ]
  },
  {
   "cell_type": "code",
   "execution_count": 67,
   "id": "d40d583a-22f6-4ae6-9494-0d56f7067946",
   "metadata": {},
   "outputs": [
    {
     "data": {
      "image/png": "[encoded data removed]",
      "text/plain": [
       "<Figure size 640x480 with 1 Axes>"
      ]
     },
     "metadata": {},
     "output_type": "display_data"
    }
   ],
   "source": [
    "dist.plot(30, title='Frequency of Lemmas in Dracula');"
   ]
  }
 ],
 "metadata": {
  "kernelspec": {
   "display_name": "Python (dojo-env)",
   "language": "python",
   "name": "dojo-env"
  },
  "language_info": {
   "codemirror_mode": {
    "name": "ipython",
    "version": 3
   },
   "file_extension": ".py",
   "mimetype": "text/x-python",
   "name": "python",
   "nbconvert_exporter": "python",
   "pygments_lexer": "ipython3",
   "version": "3.10.10"
  },
  "widgets": {
   "application/vnd.jupyter.widget-state+json": {
    "state": {},
    "version_major": 2,
    "version_minor": 0
   }
  }
 },
 "nbformat": 4,
 "nbformat_minor": 5
}
