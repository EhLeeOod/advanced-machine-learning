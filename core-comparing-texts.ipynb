{
 "cells": [
  {
   "cell_type": "markdown",
   "id": "20f0c843-346a-4199-9dfc-2ab70e09d628",
   "metadata": {},
   "source": [
    "# Comparing Texts"
   ]
  },
  {
   "cell_type": "markdown",
   "id": "0bb34340-0123-4079-9f24-1c8c78868402",
   "metadata": {},
   "source": [
    "## Imports"
   ]
  },
  {
   "cell_type": "code",
   "execution_count": 12,
   "id": "6f5e5857-39aa-46d2-859c-88886aa97dc1",
   "metadata": {},
   "outputs": [],
   "source": [
    "# packages\n",
    "import pandas as pd\n",
    "import nltk\n",
    "import spacy"
   ]
  },
  {
   "cell_type": "code",
   "execution_count": 2,
   "id": "b1fee773-9eb1-4e72-bf57-5b68d96ba1b8",
   "metadata": {},
   "outputs": [],
   "source": [
    "# load data\n",
    "df = pd.read_csv('Data/Fake_Real_News_Data.csv')"
   ]
  },
  {
   "cell_type": "code",
   "execution_count": 3,
   "id": "f0c2f1f3-3753-4779-9c23-13a3a148cf64",
   "metadata": {},
   "outputs": [
    {
     "data": {
      "text/html": [
       "<div>\n",
       "<style scoped>\n",
       "    .dataframe tbody tr th:only-of-type {\n",
       "        vertical-align: middle;\n",
       "    }\n",
       "\n",
       "    .dataframe tbody tr th {\n",
       "        vertical-align: top;\n",
       "    }\n",
       "\n",
       "    .dataframe thead th {\n",
       "        text-align: right;\n",
       "    }\n",
       "</style>\n",
       "<table border=\"1\" class=\"dataframe\">\n",
       "  <thead>\n",
       "    <tr style=\"text-align: right;\">\n",
       "      <th></th>\n",
       "      <th>Unnamed: 0</th>\n",
       "      <th>title</th>\n",
       "      <th>text</th>\n",
       "      <th>label</th>\n",
       "    </tr>\n",
       "  </thead>\n",
       "  <tbody>\n",
       "    <tr>\n",
       "      <th>0</th>\n",
       "      <td>0</td>\n",
       "      <td>A whirlwind day in D.C. showcases Trump’s unor...</td>\n",
       "      <td>Donald Trump endorsed an unabashedly noninterv...</td>\n",
       "      <td>REAL</td>\n",
       "    </tr>\n",
       "    <tr>\n",
       "      <th>1</th>\n",
       "      <td>1</td>\n",
       "      <td>In Baltimore's call for federal police probe, ...</td>\n",
       "      <td>While some Justice Department investigations a...</td>\n",
       "      <td>REAL</td>\n",
       "    </tr>\n",
       "    <tr>\n",
       "      <th>2</th>\n",
       "      <td>2</td>\n",
       "      <td>Trump Proudly Declares: Most Of The People I’v...</td>\n",
       "      <td>Trump Proudly Declares: Most Of The People I’v...</td>\n",
       "      <td>FAKE</td>\n",
       "    </tr>\n",
       "    <tr>\n",
       "      <th>3</th>\n",
       "      <td>3</td>\n",
       "      <td>Inside the Trump-Bush melodrama: Decades of te...</td>\n",
       "      <td>Donald Trump spent a day in January 2014 hobno...</td>\n",
       "      <td>REAL</td>\n",
       "    </tr>\n",
       "    <tr>\n",
       "      <th>4</th>\n",
       "      <td>4</td>\n",
       "      <td>Shutdown clash to return in force by December</td>\n",
       "      <td>Notable names include Ray Washburne (Commerce)...</td>\n",
       "      <td>REAL</td>\n",
       "    </tr>\n",
       "  </tbody>\n",
       "</table>\n",
       "</div>"
      ],
      "text/plain": [
       "   Unnamed: 0                                              title  \\\n",
       "0           0  A whirlwind day in D.C. showcases Trump’s unor...   \n",
       "1           1  In Baltimore's call for federal police probe, ...   \n",
       "2           2  Trump Proudly Declares: Most Of The People I’v...   \n",
       "3           3  Inside the Trump-Bush melodrama: Decades of te...   \n",
       "4           4      Shutdown clash to return in force by December   \n",
       "\n",
       "                                                text label  \n",
       "0  Donald Trump endorsed an unabashedly noninterv...  REAL  \n",
       "1  While some Justice Department investigations a...  REAL  \n",
       "2  Trump Proudly Declares: Most Of The People I’v...  FAKE  \n",
       "3  Donald Trump spent a day in January 2014 hobno...  REAL  \n",
       "4  Notable names include Ray Washburne (Commerce)...  REAL  "
      ]
     },
     "execution_count": 3,
     "metadata": {},
     "output_type": "execute_result"
    }
   ],
   "source": [
    "# preview data\n",
    "df.head()"
   ]
  },
  {
   "cell_type": "markdown",
   "id": "5a9d9f61-6650-4e13-b42e-55cdf5c9a15b",
   "metadata": {},
   "source": [
    "## EDA"
   ]
  },
  {
   "cell_type": "code",
   "execution_count": 4,
   "id": "f2aa14ff-40b2-48cc-8278-37195c864fe5",
   "metadata": {},
   "outputs": [
    {
     "name": "stdout",
     "output_type": "stream",
     "text": [
      "<class 'pandas.core.frame.DataFrame'>\n",
      "RangeIndex: 6335 entries, 0 to 6334\n",
      "Data columns (total 4 columns):\n",
      " #   Column      Non-Null Count  Dtype \n",
      "---  ------      --------------  ----- \n",
      " 0   Unnamed: 0  6335 non-null   int64 \n",
      " 1   title       6335 non-null   object\n",
      " 2   text        6335 non-null   object\n",
      " 3   label       6335 non-null   object\n",
      "dtypes: int64(1), object(3)\n",
      "memory usage: 198.1+ KB\n"
     ]
    }
   ],
   "source": [
    "df.info()"
   ]
  },
  {
   "cell_type": "code",
   "execution_count": 5,
   "id": "681f6efa-2274-4cba-9763-236523d15394",
   "metadata": {},
   "outputs": [
    {
     "data": {
      "text/plain": [
       "Unnamed: 0    0\n",
       "title         0\n",
       "text          0\n",
       "label         0\n",
       "dtype: int64"
      ]
     },
     "execution_count": 5,
     "metadata": {},
     "output_type": "execute_result"
    }
   ],
   "source": [
    "# check for missing values\n",
    "df.isna().sum()"
   ]
  },
  {
   "cell_type": "code",
   "execution_count": 6,
   "id": "e2492402-f095-43d1-8b18-0cfabf90871a",
   "metadata": {},
   "outputs": [
    {
     "data": {
      "text/plain": [
       "0"
      ]
     },
     "execution_count": 6,
     "metadata": {},
     "output_type": "execute_result"
    }
   ],
   "source": [
    "# check for duplicates\n",
    "df.duplicated().sum()"
   ]
  },
  {
   "cell_type": "markdown",
   "id": "2cc72dec-da8c-431d-8037-0f4fde1471e4",
   "metadata": {},
   "source": [
    "## 1. Clean the Data"
   ]
  },
  {
   "cell_type": "code",
   "execution_count": 7,
   "id": "7639df50-3d9b-42c0-8288-5f96af7b5a6c",
   "metadata": {},
   "outputs": [],
   "source": [
    "# drop unnecessary columns\n",
    "df = df.drop(columns='Unnamed: 0')"
   ]
  },
  {
   "cell_type": "code",
   "execution_count": 8,
   "id": "10e71d0a-f61f-401e-ac74-85c32e8fb2dc",
   "metadata": {},
   "outputs": [
    {
     "data": {
      "text/html": [
       "<div>\n",
       "<style scoped>\n",
       "    .dataframe tbody tr th:only-of-type {\n",
       "        vertical-align: middle;\n",
       "    }\n",
       "\n",
       "    .dataframe tbody tr th {\n",
       "        vertical-align: top;\n",
       "    }\n",
       "\n",
       "    .dataframe thead th {\n",
       "        text-align: right;\n",
       "    }\n",
       "</style>\n",
       "<table border=\"1\" class=\"dataframe\">\n",
       "  <thead>\n",
       "    <tr style=\"text-align: right;\">\n",
       "      <th></th>\n",
       "      <th>title</th>\n",
       "      <th>text</th>\n",
       "      <th>label</th>\n",
       "    </tr>\n",
       "  </thead>\n",
       "  <tbody>\n",
       "    <tr>\n",
       "      <th>0</th>\n",
       "      <td>A whirlwind day in D.C. showcases Trump’s unor...</td>\n",
       "      <td>Donald Trump endorsed an unabashedly noninterv...</td>\n",
       "      <td>REAL</td>\n",
       "    </tr>\n",
       "    <tr>\n",
       "      <th>1</th>\n",
       "      <td>In Baltimore's call for federal police probe, ...</td>\n",
       "      <td>While some Justice Department investigations a...</td>\n",
       "      <td>REAL</td>\n",
       "    </tr>\n",
       "    <tr>\n",
       "      <th>2</th>\n",
       "      <td>Trump Proudly Declares: Most Of The People I’v...</td>\n",
       "      <td>Trump Proudly Declares: Most Of The People I’v...</td>\n",
       "      <td>FAKE</td>\n",
       "    </tr>\n",
       "    <tr>\n",
       "      <th>3</th>\n",
       "      <td>Inside the Trump-Bush melodrama: Decades of te...</td>\n",
       "      <td>Donald Trump spent a day in January 2014 hobno...</td>\n",
       "      <td>REAL</td>\n",
       "    </tr>\n",
       "    <tr>\n",
       "      <th>4</th>\n",
       "      <td>Shutdown clash to return in force by December</td>\n",
       "      <td>Notable names include Ray Washburne (Commerce)...</td>\n",
       "      <td>REAL</td>\n",
       "    </tr>\n",
       "  </tbody>\n",
       "</table>\n",
       "</div>"
      ],
      "text/plain": [
       "                                               title  \\\n",
       "0  A whirlwind day in D.C. showcases Trump’s unor...   \n",
       "1  In Baltimore's call for federal police probe, ...   \n",
       "2  Trump Proudly Declares: Most Of The People I’v...   \n",
       "3  Inside the Trump-Bush melodrama: Decades of te...   \n",
       "4      Shutdown clash to return in force by December   \n",
       "\n",
       "                                                text label  \n",
       "0  Donald Trump endorsed an unabashedly noninterv...  REAL  \n",
       "1  While some Justice Department investigations a...  REAL  \n",
       "2  Trump Proudly Declares: Most Of The People I’v...  FAKE  \n",
       "3  Donald Trump spent a day in January 2014 hobno...  REAL  \n",
       "4  Notable names include Ray Washburne (Commerce)...  REAL  "
      ]
     },
     "execution_count": 8,
     "metadata": {},
     "output_type": "execute_result"
    }
   ],
   "source": [
    "# verify changes\n",
    "df.head()"
   ]
  },
  {
   "cell_type": "code",
   "execution_count": 9,
   "id": "257ed047-2069-405f-923c-29d78b164706",
   "metadata": {},
   "outputs": [
    {
     "data": {
      "text/html": [
       "<div>\n",
       "<style scoped>\n",
       "    .dataframe tbody tr th:only-of-type {\n",
       "        vertical-align: middle;\n",
       "    }\n",
       "\n",
       "    .dataframe tbody tr th {\n",
       "        vertical-align: top;\n",
       "    }\n",
       "\n",
       "    .dataframe thead th {\n",
       "        text-align: right;\n",
       "    }\n",
       "</style>\n",
       "<table border=\"1\" class=\"dataframe\">\n",
       "  <thead>\n",
       "    <tr style=\"text-align: right;\">\n",
       "      <th></th>\n",
       "      <th>title</th>\n",
       "      <th>text</th>\n",
       "      <th>label</th>\n",
       "      <th>lower_text</th>\n",
       "    </tr>\n",
       "  </thead>\n",
       "  <tbody>\n",
       "    <tr>\n",
       "      <th>0</th>\n",
       "      <td>A whirlwind day in D.C. showcases Trump’s unor...</td>\n",
       "      <td>Donald Trump endorsed an unabashedly noninterv...</td>\n",
       "      <td>REAL</td>\n",
       "      <td>donald trump endorsed an unabashedly noninterv...</td>\n",
       "    </tr>\n",
       "    <tr>\n",
       "      <th>1</th>\n",
       "      <td>In Baltimore's call for federal police probe, ...</td>\n",
       "      <td>While some Justice Department investigations a...</td>\n",
       "      <td>REAL</td>\n",
       "      <td>while some justice department investigations a...</td>\n",
       "    </tr>\n",
       "    <tr>\n",
       "      <th>2</th>\n",
       "      <td>Trump Proudly Declares: Most Of The People I’v...</td>\n",
       "      <td>Trump Proudly Declares: Most Of The People I’v...</td>\n",
       "      <td>FAKE</td>\n",
       "      <td>trump proudly declares: most of the people i’v...</td>\n",
       "    </tr>\n",
       "    <tr>\n",
       "      <th>3</th>\n",
       "      <td>Inside the Trump-Bush melodrama: Decades of te...</td>\n",
       "      <td>Donald Trump spent a day in January 2014 hobno...</td>\n",
       "      <td>REAL</td>\n",
       "      <td>donald trump spent a day in january 2014 hobno...</td>\n",
       "    </tr>\n",
       "    <tr>\n",
       "      <th>4</th>\n",
       "      <td>Shutdown clash to return in force by December</td>\n",
       "      <td>Notable names include Ray Washburne (Commerce)...</td>\n",
       "      <td>REAL</td>\n",
       "      <td>notable names include ray washburne (commerce)...</td>\n",
       "    </tr>\n",
       "  </tbody>\n",
       "</table>\n",
       "</div>"
      ],
      "text/plain": [
       "                                               title  \\\n",
       "0  A whirlwind day in D.C. showcases Trump’s unor...   \n",
       "1  In Baltimore's call for federal police probe, ...   \n",
       "2  Trump Proudly Declares: Most Of The People I’v...   \n",
       "3  Inside the Trump-Bush melodrama: Decades of te...   \n",
       "4      Shutdown clash to return in force by December   \n",
       "\n",
       "                                                text label  \\\n",
       "0  Donald Trump endorsed an unabashedly noninterv...  REAL   \n",
       "1  While some Justice Department investigations a...  REAL   \n",
       "2  Trump Proudly Declares: Most Of The People I’v...  FAKE   \n",
       "3  Donald Trump spent a day in January 2014 hobno...  REAL   \n",
       "4  Notable names include Ray Washburne (Commerce)...  REAL   \n",
       "\n",
       "                                          lower_text  \n",
       "0  donald trump endorsed an unabashedly noninterv...  \n",
       "1  while some justice department investigations a...  \n",
       "2  trump proudly declares: most of the people i’v...  \n",
       "3  donald trump spent a day in january 2014 hobno...  \n",
       "4  notable names include ray washburne (commerce)...  "
      ]
     },
     "execution_count": 9,
     "metadata": {},
     "output_type": "execute_result"
    }
   ],
   "source": [
    "df['lower_text'] = df['text'].str.lower()\n",
    "df.head()"
   ]
  },
  {
   "cell_type": "markdown",
   "id": "8feb8772-f093-4669-8ffa-5de3b93647e7",
   "metadata": {},
   "source": [
    "## 2. Prepare the Data"
   ]
  },
  {
   "cell_type": "markdown",
   "id": "3574c6cd-d6f0-4ed7-903d-701f140acef7",
   "metadata": {},
   "source": [
    "### Create Tokens"
   ]
  },
  {
   "cell_type": "code",
   "execution_count": 10,
   "id": "42ce71cb-7f52-4478-8632-308829b1487a",
   "metadata": {},
   "outputs": [
    {
     "data": {
      "text/html": [
       "<div>\n",
       "<style scoped>\n",
       "    .dataframe tbody tr th:only-of-type {\n",
       "        vertical-align: middle;\n",
       "    }\n",
       "\n",
       "    .dataframe tbody tr th {\n",
       "        vertical-align: top;\n",
       "    }\n",
       "\n",
       "    .dataframe thead th {\n",
       "        text-align: right;\n",
       "    }\n",
       "</style>\n",
       "<table border=\"1\" class=\"dataframe\">\n",
       "  <thead>\n",
       "    <tr style=\"text-align: right;\">\n",
       "      <th></th>\n",
       "      <th>title</th>\n",
       "      <th>text</th>\n",
       "      <th>label</th>\n",
       "      <th>lower_text</th>\n",
       "      <th>tokens</th>\n",
       "    </tr>\n",
       "  </thead>\n",
       "  <tbody>\n",
       "    <tr>\n",
       "      <th>0</th>\n",
       "      <td>A whirlwind day in D.C. showcases Trump’s unor...</td>\n",
       "      <td>Donald Trump endorsed an unabashedly noninterv...</td>\n",
       "      <td>REAL</td>\n",
       "      <td>donald trump endorsed an unabashedly noninterv...</td>\n",
       "      <td>[donald, trump, endorsed, an, unabashedly, non...</td>\n",
       "    </tr>\n",
       "    <tr>\n",
       "      <th>1</th>\n",
       "      <td>In Baltimore's call for federal police probe, ...</td>\n",
       "      <td>While some Justice Department investigations a...</td>\n",
       "      <td>REAL</td>\n",
       "      <td>while some justice department investigations a...</td>\n",
       "      <td>[while, some, justice, department, investigati...</td>\n",
       "    </tr>\n",
       "    <tr>\n",
       "      <th>2</th>\n",
       "      <td>Trump Proudly Declares: Most Of The People I’v...</td>\n",
       "      <td>Trump Proudly Declares: Most Of The People I’v...</td>\n",
       "      <td>FAKE</td>\n",
       "      <td>trump proudly declares: most of the people i’v...</td>\n",
       "      <td>[trump, proudly, declares:, most, of, the, peo...</td>\n",
       "    </tr>\n",
       "    <tr>\n",
       "      <th>3</th>\n",
       "      <td>Inside the Trump-Bush melodrama: Decades of te...</td>\n",
       "      <td>Donald Trump spent a day in January 2014 hobno...</td>\n",
       "      <td>REAL</td>\n",
       "      <td>donald trump spent a day in january 2014 hobno...</td>\n",
       "      <td>[donald, trump, spent, a, day, in, january, 20...</td>\n",
       "    </tr>\n",
       "    <tr>\n",
       "      <th>4</th>\n",
       "      <td>Shutdown clash to return in force by December</td>\n",
       "      <td>Notable names include Ray Washburne (Commerce)...</td>\n",
       "      <td>REAL</td>\n",
       "      <td>notable names include ray washburne (commerce)...</td>\n",
       "      <td>[notable, names, include, ray, washburne, (com...</td>\n",
       "    </tr>\n",
       "  </tbody>\n",
       "</table>\n",
       "</div>"
      ],
      "text/plain": [
       "                                               title  \\\n",
       "0  A whirlwind day in D.C. showcases Trump’s unor...   \n",
       "1  In Baltimore's call for federal police probe, ...   \n",
       "2  Trump Proudly Declares: Most Of The People I’v...   \n",
       "3  Inside the Trump-Bush melodrama: Decades of te...   \n",
       "4      Shutdown clash to return in force by December   \n",
       "\n",
       "                                                text label  \\\n",
       "0  Donald Trump endorsed an unabashedly noninterv...  REAL   \n",
       "1  While some Justice Department investigations a...  REAL   \n",
       "2  Trump Proudly Declares: Most Of The People I’v...  FAKE   \n",
       "3  Donald Trump spent a day in January 2014 hobno...  REAL   \n",
       "4  Notable names include Ray Washburne (Commerce)...  REAL   \n",
       "\n",
       "                                          lower_text  \\\n",
       "0  donald trump endorsed an unabashedly noninterv...   \n",
       "1  while some justice department investigations a...   \n",
       "2  trump proudly declares: most of the people i’v...   \n",
       "3  donald trump spent a day in january 2014 hobno...   \n",
       "4  notable names include ray washburne (commerce)...   \n",
       "\n",
       "                                              tokens  \n",
       "0  [donald, trump, endorsed, an, unabashedly, non...  \n",
       "1  [while, some, justice, department, investigati...  \n",
       "2  [trump, proudly, declares:, most, of, the, peo...  \n",
       "3  [donald, trump, spent, a, day, in, january, 20...  \n",
       "4  [notable, names, include, ray, washburne, (com...  "
      ]
     },
     "execution_count": 10,
     "metadata": {},
     "output_type": "execute_result"
    }
   ],
   "source": [
    "df['tokens'] = df['lower_text'].str.split()\n",
    "df.head()"
   ]
  },
  {
   "cell_type": "markdown",
   "id": "4c3ebb9d-0dbb-4355-9590-86e8c14a40a9",
   "metadata": {},
   "source": [
    "### Create Lemmas"
   ]
  },
  {
   "cell_type": "code",
   "execution_count": 15,
   "id": "a2ef940e-0bed-4559-a2e8-b8f4f00e03d6",
   "metadata": {},
   "outputs": [
    {
     "data": {
      "text/plain": [
       "['tok2vec', 'tagger', 'attribute_ruler', 'lemmatizer']"
      ]
     },
     "execution_count": 15,
     "metadata": {},
     "output_type": "execute_result"
    }
   ],
   "source": [
    "# load spacy model with parser and ner disabled\n",
    "nlp_model = spacy.load('en_core_web_sm', disable=['parser', 'ner'])\n",
    "\n",
    "# verify parser and ner not loaded\n",
    "nlp_model.pipe_names"
   ]
  },
  {
   "cell_type": "code",
   "execution_count": 29,
   "id": "ceef3234-84da-47cd-ad6b-4f21402c0e4c",
   "metadata": {},
   "outputs": [],
   "source": [
    "## [V1 List Comp] Define a function to use spacy to process our text\n",
    "def spacy_process(text):\n",
    "        \"\"\"Lemmatize tokens, lower case, remove punctuation, spaces, and stop words\"\"\"\n",
    "        doc = nlp_model(text)\n",
    "        processed_doc = [token.lemma_.lower() for token in doc if not token.is_punct and \n",
    "                         not token.is_space and not token.is_stop and \n",
    "                         not 'http' in token.lemma_.lower() and 'www' not in token.lemma_.lower()]\n",
    "        return processed_doc"
   ]
  },
  {
   "cell_type": "code",
   "execution_count": 30,
   "id": "31cec3f1-2781-4405-8ccc-ff1bcc51e2ea",
   "metadata": {},
   "outputs": [
    {
     "data": {
      "text/html": [
       "<div>\n",
       "<style scoped>\n",
       "    .dataframe tbody tr th:only-of-type {\n",
       "        vertical-align: middle;\n",
       "    }\n",
       "\n",
       "    .dataframe tbody tr th {\n",
       "        vertical-align: top;\n",
       "    }\n",
       "\n",
       "    .dataframe thead th {\n",
       "        text-align: right;\n",
       "    }\n",
       "</style>\n",
       "<table border=\"1\" class=\"dataframe\">\n",
       "  <thead>\n",
       "    <tr style=\"text-align: right;\">\n",
       "      <th></th>\n",
       "      <th>title</th>\n",
       "      <th>text</th>\n",
       "      <th>label</th>\n",
       "      <th>lower_text</th>\n",
       "      <th>tokens</th>\n",
       "      <th>spacy_lemmas</th>\n",
       "    </tr>\n",
       "  </thead>\n",
       "  <tbody>\n",
       "    <tr>\n",
       "      <th>0</th>\n",
       "      <td>A whirlwind day in D.C. showcases Trump’s unor...</td>\n",
       "      <td>Donald Trump endorsed an unabashedly noninterv...</td>\n",
       "      <td>REAL</td>\n",
       "      <td>donald trump endorsed an unabashedly noninterv...</td>\n",
       "      <td>[donald, trump, endorsed, an, unabashedly, non...</td>\n",
       "      <td>[donald, trump, endorse, unabashedly, noninter...</td>\n",
       "    </tr>\n",
       "    <tr>\n",
       "      <th>1</th>\n",
       "      <td>In Baltimore's call for federal police probe, ...</td>\n",
       "      <td>While some Justice Department investigations a...</td>\n",
       "      <td>REAL</td>\n",
       "      <td>while some justice department investigations a...</td>\n",
       "      <td>[while, some, justice, department, investigati...</td>\n",
       "      <td>[justice, department, investigation, adversari...</td>\n",
       "    </tr>\n",
       "    <tr>\n",
       "      <th>2</th>\n",
       "      <td>Trump Proudly Declares: Most Of The People I’v...</td>\n",
       "      <td>Trump Proudly Declares: Most Of The People I’v...</td>\n",
       "      <td>FAKE</td>\n",
       "      <td>trump proudly declares: most of the people i’v...</td>\n",
       "      <td>[trump, proudly, declares:, most, of, the, peo...</td>\n",
       "      <td>[trump, proudly, declare, people, insult, dese...</td>\n",
       "    </tr>\n",
       "    <tr>\n",
       "      <th>3</th>\n",
       "      <td>Inside the Trump-Bush melodrama: Decades of te...</td>\n",
       "      <td>Donald Trump spent a day in January 2014 hobno...</td>\n",
       "      <td>REAL</td>\n",
       "      <td>donald trump spent a day in january 2014 hobno...</td>\n",
       "      <td>[donald, trump, spent, a, day, in, january, 20...</td>\n",
       "      <td>[donald, trump, spend, day, january, 2014, hob...</td>\n",
       "    </tr>\n",
       "    <tr>\n",
       "      <th>4</th>\n",
       "      <td>Shutdown clash to return in force by December</td>\n",
       "      <td>Notable names include Ray Washburne (Commerce)...</td>\n",
       "      <td>REAL</td>\n",
       "      <td>notable names include ray washburne (commerce)...</td>\n",
       "      <td>[notable, names, include, ray, washburne, (com...</td>\n",
       "      <td>[notable, name, include, ray, washburne, comme...</td>\n",
       "    </tr>\n",
       "  </tbody>\n",
       "</table>\n",
       "</div>"
      ],
      "text/plain": [
       "                                               title  \\\n",
       "0  A whirlwind day in D.C. showcases Trump’s unor...   \n",
       "1  In Baltimore's call for federal police probe, ...   \n",
       "2  Trump Proudly Declares: Most Of The People I’v...   \n",
       "3  Inside the Trump-Bush melodrama: Decades of te...   \n",
       "4      Shutdown clash to return in force by December   \n",
       "\n",
       "                                                text label  \\\n",
       "0  Donald Trump endorsed an unabashedly noninterv...  REAL   \n",
       "1  While some Justice Department investigations a...  REAL   \n",
       "2  Trump Proudly Declares: Most Of The People I’v...  FAKE   \n",
       "3  Donald Trump spent a day in January 2014 hobno...  REAL   \n",
       "4  Notable names include Ray Washburne (Commerce)...  REAL   \n",
       "\n",
       "                                          lower_text  \\\n",
       "0  donald trump endorsed an unabashedly noninterv...   \n",
       "1  while some justice department investigations a...   \n",
       "2  trump proudly declares: most of the people i’v...   \n",
       "3  donald trump spent a day in january 2014 hobno...   \n",
       "4  notable names include ray washburne (commerce)...   \n",
       "\n",
       "                                              tokens  \\\n",
       "0  [donald, trump, endorsed, an, unabashedly, non...   \n",
       "1  [while, some, justice, department, investigati...   \n",
       "2  [trump, proudly, declares:, most, of, the, peo...   \n",
       "3  [donald, trump, spent, a, day, in, january, 20...   \n",
       "4  [notable, names, include, ray, washburne, (com...   \n",
       "\n",
       "                                        spacy_lemmas  \n",
       "0  [donald, trump, endorse, unabashedly, noninter...  \n",
       "1  [justice, department, investigation, adversari...  \n",
       "2  [trump, proudly, declare, people, insult, dese...  \n",
       "3  [donald, trump, spend, day, january, 2014, hob...  \n",
       "4  [notable, name, include, ray, washburne, comme...  "
      ]
     },
     "execution_count": 30,
     "metadata": {},
     "output_type": "execute_result"
    }
   ],
   "source": [
    "## process the text using the spacy function\n",
    "df['spacy_lemmas'] = df['text'].apply(spacy_process)\n",
    "df.head()"
   ]
  },
  {
   "cell_type": "markdown",
   "id": "33bcc90f-f27f-4bfe-8c8d-b019a59788de",
   "metadata": {},
   "source": [
    "## 3. Joined lemmatized data"
   ]
  },
  {
   "cell_type": "markdown",
   "id": "ec7497e9-d55e-475f-a62d-c324cbe52dbb",
   "metadata": {},
   "source": [
    "### join each lemmatized document into a single string."
   ]
  },
  {
   "cell_type": "code",
   "execution_count": 40,
   "id": "6899e2ac-6bb1-46f6-b9bd-803de31fef0e",
   "metadata": {},
   "outputs": [],
   "source": [
    "# Join list of lemmas into a string with spaces between each lemma\n",
    "df['lemmas-joined'] = df['spacy_lemmas'].map(lambda x: \" \".join(x))"
   ]
  },
  {
   "cell_type": "code",
   "execution_count": 42,
   "id": "781cdcda-3af8-4005-9989-be2ebf69cc5d",
   "metadata": {},
   "outputs": [
    {
     "data": {
      "text/html": [
       "<div>\n",
       "<style scoped>\n",
       "    .dataframe tbody tr th:only-of-type {\n",
       "        vertical-align: middle;\n",
       "    }\n",
       "\n",
       "    .dataframe tbody tr th {\n",
       "        vertical-align: top;\n",
       "    }\n",
       "\n",
       "    .dataframe thead th {\n",
       "        text-align: right;\n",
       "    }\n",
       "</style>\n",
       "<table border=\"1\" class=\"dataframe\">\n",
       "  <thead>\n",
       "    <tr style=\"text-align: right;\">\n",
       "      <th></th>\n",
       "      <th>title</th>\n",
       "      <th>text</th>\n",
       "      <th>label</th>\n",
       "      <th>lower_text</th>\n",
       "      <th>tokens</th>\n",
       "      <th>spacy_lemmas</th>\n",
       "      <th>lemmas-joined</th>\n",
       "    </tr>\n",
       "  </thead>\n",
       "  <tbody>\n",
       "    <tr>\n",
       "      <th>0</th>\n",
       "      <td>A whirlwind day in D.C. showcases Trump’s unor...</td>\n",
       "      <td>Donald Trump endorsed an unabashedly noninterv...</td>\n",
       "      <td>REAL</td>\n",
       "      <td>donald trump endorsed an unabashedly noninterv...</td>\n",
       "      <td>[donald, trump, endorsed, an, unabashedly, non...</td>\n",
       "      <td>[donald, trump, endorse, unabashedly, noninter...</td>\n",
       "      <td>donald trump endorse unabashedly noninterventi...</td>\n",
       "    </tr>\n",
       "    <tr>\n",
       "      <th>1</th>\n",
       "      <td>In Baltimore's call for federal police probe, ...</td>\n",
       "      <td>While some Justice Department investigations a...</td>\n",
       "      <td>REAL</td>\n",
       "      <td>while some justice department investigations a...</td>\n",
       "      <td>[while, some, justice, department, investigati...</td>\n",
       "      <td>[justice, department, investigation, adversari...</td>\n",
       "      <td>justice department investigation adversarial n...</td>\n",
       "    </tr>\n",
       "    <tr>\n",
       "      <th>2</th>\n",
       "      <td>Trump Proudly Declares: Most Of The People I’v...</td>\n",
       "      <td>Trump Proudly Declares: Most Of The People I’v...</td>\n",
       "      <td>FAKE</td>\n",
       "      <td>trump proudly declares: most of the people i’v...</td>\n",
       "      <td>[trump, proudly, declares:, most, of, the, peo...</td>\n",
       "      <td>[trump, proudly, declare, people, insult, dese...</td>\n",
       "      <td>trump proudly declare people insult deserved a...</td>\n",
       "    </tr>\n",
       "    <tr>\n",
       "      <th>3</th>\n",
       "      <td>Inside the Trump-Bush melodrama: Decades of te...</td>\n",
       "      <td>Donald Trump spent a day in January 2014 hobno...</td>\n",
       "      <td>REAL</td>\n",
       "      <td>donald trump spent a day in january 2014 hobno...</td>\n",
       "      <td>[donald, trump, spent, a, day, in, january, 20...</td>\n",
       "      <td>[donald, trump, spend, day, january, 2014, hob...</td>\n",
       "      <td>donald trump spend day january 2014 hobnob pol...</td>\n",
       "    </tr>\n",
       "    <tr>\n",
       "      <th>4</th>\n",
       "      <td>Shutdown clash to return in force by December</td>\n",
       "      <td>Notable names include Ray Washburne (Commerce)...</td>\n",
       "      <td>REAL</td>\n",
       "      <td>notable names include ray washburne (commerce)...</td>\n",
       "      <td>[notable, names, include, ray, washburne, (com...</td>\n",
       "      <td>[notable, name, include, ray, washburne, comme...</td>\n",
       "      <td>notable name include ray washburne commerce da...</td>\n",
       "    </tr>\n",
       "  </tbody>\n",
       "</table>\n",
       "</div>"
      ],
      "text/plain": [
       "                                               title  \\\n",
       "0  A whirlwind day in D.C. showcases Trump’s unor...   \n",
       "1  In Baltimore's call for federal police probe, ...   \n",
       "2  Trump Proudly Declares: Most Of The People I’v...   \n",
       "3  Inside the Trump-Bush melodrama: Decades of te...   \n",
       "4      Shutdown clash to return in force by December   \n",
       "\n",
       "                                                text label  \\\n",
       "0  Donald Trump endorsed an unabashedly noninterv...  REAL   \n",
       "1  While some Justice Department investigations a...  REAL   \n",
       "2  Trump Proudly Declares: Most Of The People I’v...  FAKE   \n",
       "3  Donald Trump spent a day in January 2014 hobno...  REAL   \n",
       "4  Notable names include Ray Washburne (Commerce)...  REAL   \n",
       "\n",
       "                                          lower_text  \\\n",
       "0  donald trump endorsed an unabashedly noninterv...   \n",
       "1  while some justice department investigations a...   \n",
       "2  trump proudly declares: most of the people i’v...   \n",
       "3  donald trump spent a day in january 2014 hobno...   \n",
       "4  notable names include ray washburne (commerce)...   \n",
       "\n",
       "                                              tokens  \\\n",
       "0  [donald, trump, endorsed, an, unabashedly, non...   \n",
       "1  [while, some, justice, department, investigati...   \n",
       "2  [trump, proudly, declares:, most, of, the, peo...   \n",
       "3  [donald, trump, spent, a, day, in, january, 20...   \n",
       "4  [notable, names, include, ray, washburne, (com...   \n",
       "\n",
       "                                        spacy_lemmas  \\\n",
       "0  [donald, trump, endorse, unabashedly, noninter...   \n",
       "1  [justice, department, investigation, adversari...   \n",
       "2  [trump, proudly, declare, people, insult, dese...   \n",
       "3  [donald, trump, spend, day, january, 2014, hob...   \n",
       "4  [notable, name, include, ray, washburne, comme...   \n",
       "\n",
       "                                       lemmas-joined  \n",
       "0  donald trump endorse unabashedly noninterventi...  \n",
       "1  justice department investigation adversarial n...  \n",
       "2  trump proudly declare people insult deserved a...  \n",
       "3  donald trump spend day january 2014 hobnob pol...  \n",
       "4  notable name include ray washburne commerce da...  "
      ]
     },
     "execution_count": 42,
     "metadata": {},
     "output_type": "execute_result"
    }
   ],
   "source": [
    "# verify changes\n",
    "df.head()"
   ]
  },
  {
   "cell_type": "markdown",
   "id": "c353efcf-f6fb-4a7f-83c7-2154ebd17ec9",
   "metadata": {},
   "source": [
    "## Analyze class balance and document lengths:"
   ]
  },
  {
   "cell_type": "markdown",
   "id": "b958826c-7188-46ef-877f-79eb83efc9be",
   "metadata": {},
   "source": [
    "### 1. What is the class balance? How many real and fake articles are there?"
   ]
  },
  {
   "cell_type": "code",
   "execution_count": 52,
   "id": "cf8ee256-8a44-4dce-953c-ab968257ec95",
   "metadata": {},
   "outputs": [
    {
     "data": {
      "text/plain": [
       "REAL    0.500552\n",
       "FAKE    0.499448\n",
       "Name: label, dtype: float64"
      ]
     },
     "execution_count": 52,
     "metadata": {},
     "output_type": "execute_result"
    }
   ],
   "source": [
    "# normalized class balance\n",
    "df['label'].value_counts(normalize=True)"
   ]
  },
  {
   "cell_type": "code",
   "execution_count": 51,
   "id": "cd5c53ee-4e01-4f95-ac10-9e8efcd9ea94",
   "metadata": {},
   "outputs": [
    {
     "data": {
      "text/plain": [
       "REAL    3171\n",
       "FAKE    3164\n",
       "Name: label, dtype: int64"
      ]
     },
     "execution_count": 51,
     "metadata": {},
     "output_type": "execute_result"
    }
   ],
   "source": [
    "# raw value count of real vs. fake articles\n",
    "df['label'].value_counts()"
   ]
  },
  {
   "cell_type": "markdown",
   "id": "e811cf4c-17d0-45ea-877b-a7b1adc35d78",
   "metadata": {},
   "source": [
    "### 2. What is the average word count for real news articles? What about fake ones?"
   ]
  },
  {
   "cell_type": "code",
   "execution_count": null,
   "id": "ffe9c2d1-9c5f-49a4-885b-2d358970943c",
   "metadata": {},
   "outputs": [],
   "source": []
  },
  {
   "cell_type": "markdown",
   "id": "8160403d-e951-4db2-bb87-2b222fe89b02",
   "metadata": {},
   "source": [
    "### 3. Hint, you can map the len() function to the tokenized text to create a new column, then find the average of that column."
   ]
  },
  {
   "cell_type": "code",
   "execution_count": null,
   "id": "132133a7-57fa-4a50-b251-06cd9c7e981c",
   "metadata": {},
   "outputs": [],
   "source": []
  },
  {
   "cell_type": "markdown",
   "id": "e87f9a5d-0fd0-41a5-a761-7f5377b33d99",
   "metadata": {},
   "source": [
    "## Compare the word frequencies:"
   ]
  },
  {
   "cell_type": "markdown",
   "id": "f99dfbe1-5ee8-499b-9480-584e5f6da3f1",
   "metadata": {},
   "source": [
    "### 1. Create and plot the frequency distribution plots for the 20 most common words in real and fake news articles. (2 total plots)\n",
    "    Use the lemmatized text"
   ]
  },
  {
   "cell_type": "code",
   "execution_count": null,
   "id": "d0b1e0d1-0fe8-4ed9-a7b7-ceb9b56a0d5e",
   "metadata": {},
   "outputs": [],
   "source": []
  },
  {
   "cell_type": "markdown",
   "id": "497fe6f4-d750-4f6e-9510-e33b08de89a1",
   "metadata": {},
   "source": [
    "### 2. Create word clouds for each of the article types, real and fake (2 total word clouds)\n",
    "    Use the joined lemmatized text"
   ]
  },
  {
   "cell_type": "code",
   "execution_count": null,
   "id": "f0e214b2-9804-44e4-8d76-e545f30f5c82",
   "metadata": {},
   "outputs": [],
   "source": []
  }
 ],
 "metadata": {
  "kernelspec": {
   "display_name": "Python (dojo-env)",
   "language": "python",
   "name": "dojo-env"
  },
  "language_info": {
   "codemirror_mode": {
    "name": "ipython",
    "version": 3
   },
   "file_extension": ".py",
   "mimetype": "text/x-python",
   "name": "python",
   "nbconvert_exporter": "python",
   "pygments_lexer": "ipython3",
   "version": "3.10.10"
  },
  "widgets": {
   "application/vnd.jupyter.widget-state+json": {
    "state": {},
    "version_major": 2,
    "version_minor": 0
   }
  }
 },
 "nbformat": 4,
 "nbformat_minor": 5
}
