{
 "cells": [
  {
   "cell_type": "markdown",
   "id": "29adc1dd-99e2-4782-929e-12ab9b1936ea",
   "metadata": {},
   "source": [
    "# Lesson:  Scattertext"
   ]
  },
  {
   "cell_type": "code",
   "execution_count": null,
   "id": "47432940-0c72-430f-a926-644c506a4659",
   "metadata": {},
   "outputs": [],
   "source": [
    "# install scattertext\n",
    "!conda install scattertext"
   ]
  },
  {
   "cell_type": "code",
   "execution_count": null,
   "id": "cf381d62-abe0-4f8e-84bf-e787323f0543",
   "metadata": {},
   "outputs": [],
   "source": [
    "from IPython.display import IFrame\n",
    "import scattertext as st\n",
    "from scattertext import (\n",
    "    SampleCorpora,\n",
    "    produce_scattertext_explorer,\n",
    "    produce_scattertext_html,\n",
    ")\n",
    "from scattertext.CorpusFromPandas import CorpusFromPandas"
   ]
  },
  {
   "cell_type": "code",
   "execution_count": null,
   "id": "e79a9d4e-e258-40a9-8868-182c9b5befeb",
   "metadata": {},
   "outputs": [],
   "source": [
    "# Build the scattertext corpus object\n",
    "corpus = st.CorpusFromPandas(\n",
    "    reviews, category_col=\"stars\",\n",
    "    text_col='text', \n",
    "    nlp=nlp\n",
    ").build().remove_terms(nlp.Defaults.stop_words, ignore_absences = True)"
   ]
  },
  {
   "cell_type": "code",
   "execution_count": null,
   "id": "1ece0cfc-9886-4d6d-832d-a6d8fc0a7ee4",
   "metadata": {},
   "outputs": [],
   "source": [
    "# verify object type\n",
    "type(corpus)"
   ]
  },
  {
   "cell_type": "markdown",
   "id": "8f4f193a-51e0-4254-be77-dbdf876c6fa2",
   "metadata": {},
   "source": [
    "## Explore Corpus Object"
   ]
  },
  {
   "cell_type": "code",
   "execution_count": null,
   "id": "c53b08d6-a008-4e8e-ae15-6a51e9f772fe",
   "metadata": {},
   "outputs": [],
   "source": [
    "# These are the terms found in the reviews that are different than general English texts\n",
    "print(list(corpus.get_scaled_f_scores_vs_background().index[:10]))"
   ]
  },
  {
   "cell_type": "code",
   "execution_count": null,
   "id": "3ba0a7ba-a954-4f60-b40e-91ab4dd44f45",
   "metadata": {},
   "outputs": [],
   "source": [
    "# Next, we can compare the frequency of a term in the 1-star versus 5-star reviews.\n",
    "\n",
    "term_freq_df = corpus.get_term_freq_df()\n",
    "term_freq_df"
   ]
  },
  {
   "cell_type": "code",
   "execution_count": null,
   "id": "1064465d-6079-41c0-afe7-a98b79358e56",
   "metadata": {},
   "outputs": [],
   "source": [
    "# include f_scores in df\n",
    "# Add the f score for each term for each term\n",
    "term_freq_df['5-star'] = corpus.get_scaled_f_scores('5')\n",
    "term_freq_df['1-star'] = corpus.get_scaled_f_scores('1')\n",
    "\n",
    "term_freq_df.head()"
   ]
  },
  {
   "cell_type": "markdown",
   "id": "c3f7275f-b6ec-4fb9-bae6-5d15387a6576",
   "metadata": {},
   "source": [
    "### find terms characteristic of each category"
   ]
  },
  {
   "cell_type": "code",
   "execution_count": null,
   "id": "083652a1-1972-4e6d-bf7a-a692a04ea66b",
   "metadata": {},
   "outputs": [],
   "source": [
    "# Terms most associated with 5 star reviews\n",
    "print(list(term_freq_df.sort_values(by='5-star', ascending=False).index[:10]))"
   ]
  },
  {
   "cell_type": "code",
   "execution_count": null,
   "id": "2f0f2f52-89d5-4220-88db-4b286d96c2d6",
   "metadata": {},
   "outputs": [],
   "source": [
    "# Terms most associated with 1 star reviews\n",
    "print(list(term_freq_df.sort_values(by='1-star', ascending=False).index[:10]))"
   ]
  },
  {
   "cell_type": "markdown",
   "id": "e1f98205-1fe8-407b-bf48-117a896e9cab",
   "metadata": {},
   "source": [
    "## Create HTML Visualization i.e. Interactive Explorer"
   ]
  },
  {
   "cell_type": "code",
   "execution_count": null,
   "id": "2ad76ecc-3179-4dce-8c07-3edb76b407cf",
   "metadata": {},
   "outputs": [],
   "source": [
    "# Create html visualization\n",
    "# Provide file path to save \n",
    "scatter_fname = './scattertext_restaurant.html'\n",
    "\n",
    "scatter_html = st.produce_scattertext_explorer(\n",
    "    corpus,\n",
    "    category= '5',\n",
    "    category_name=\"5-Star Reviews\",\n",
    "    not_category_name=\"1-Star Reviews\",\n",
    "    minimum_term_frequency=3,\n",
    "    width_in_pixels=1000,\n",
    "    metadata=reviews[\"text\"],\n",
    ")\n",
    "open(scatter_fname, 'wb').write(scatter_html.encode('utf-8'))\n",
    "print(f'Open {scatter_fname} in Chrome or Firefox.')\n",
    "\n"
   ]
  },
  {
   "cell_type": "markdown",
   "id": "efd90b57-8b4c-4f0f-a630-e1c01c7f7db5",
   "metadata": {},
   "source": [
    " you can download HTML file and open in Chrome or Firefox"
   ]
  }
 ],
 "metadata": {
  "kernelspec": {
   "display_name": "Python (dojo-env)",
   "language": "python",
   "name": "dojo-env"
  },
  "language_info": {
   "codemirror_mode": {
    "name": "ipython",
    "version": 3
   },
   "file_extension": ".py",
   "mimetype": "text/x-python",
   "name": "python",
   "nbconvert_exporter": "python",
   "pygments_lexer": "ipython3",
   "version": "3.10.10"
  },
  "widgets": {
   "application/vnd.jupyter.widget-state+json": {
    "state": {},
    "version_major": 2,
    "version_minor": 0
   }
  }
 },
 "nbformat": 4,
 "nbformat_minor": 5
}
