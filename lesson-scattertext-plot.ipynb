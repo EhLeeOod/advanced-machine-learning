{
 "cells": [
  {
   "cell_type": "markdown",
   "id": "29adc1dd-99e2-4782-929e-12ab9b1936ea",
   "metadata": {},
   "source": [
    "# Lesson:  Scattertext"
   ]
  },
  {
   "cell_type": "code",
   "execution_count": 3,
   "id": "47432940-0c72-430f-a926-644c506a4659",
   "metadata": {},
   "outputs": [
    {
     "name": "stdout",
     "output_type": "stream",
     "text": [
      "Collecting scattertext\n",
      "  Downloading scattertext-0.1.19-py3-none-any.whl (8.2 MB)\n",
      "     ---------------------------------------- 0.0/8.2 MB ? eta -:--:--\n",
      "     ---------------------------------------- 0.0/8.2 MB 991.0 kB/s eta 0:00:09\n",
      "     ---------------------------------------- 0.1/8.2 MB 1.6 MB/s eta 0:00:06\n",
      "     ---------------------------------------- 0.1/8.2 MB 1.1 MB/s eta 0:00:08\n",
      "      --------------------------------------- 0.1/8.2 MB 722.1 kB/s eta 0:00:12\n",
      "      --------------------------------------- 0.2/8.2 MB 845.5 kB/s eta 0:00:10\n",
      "     - -------------------------------------- 0.3/8.2 MB 1.1 MB/s eta 0:00:08\n",
      "     - -------------------------------------- 0.3/8.2 MB 1.1 MB/s eta 0:00:08\n",
      "     - -------------------------------------- 0.3/8.2 MB 1.1 MB/s eta 0:00:08\n",
      "     - -------------------------------------- 0.4/8.2 MB 933.2 kB/s eta 0:00:09\n",
      "     -- ------------------------------------- 0.5/8.2 MB 1.2 MB/s eta 0:00:07\n",
      "     --- ------------------------------------ 0.7/8.2 MB 1.3 MB/s eta 0:00:06\n",
      "     --- ------------------------------------ 0.7/8.2 MB 1.3 MB/s eta 0:00:06\n",
      "     --- ------------------------------------ 0.7/8.2 MB 1.3 MB/s eta 0:00:06\n",
      "     --- ------------------------------------ 0.8/8.2 MB 1.2 MB/s eta 0:00:07\n",
      "     ---- ----------------------------------- 0.9/8.2 MB 1.3 MB/s eta 0:00:06\n",
      "     ----- ---------------------------------- 1.1/8.2 MB 1.4 MB/s eta 0:00:06\n",
      "     ----- ---------------------------------- 1.2/8.2 MB 1.5 MB/s eta 0:00:05\n",
      "     ------ --------------------------------- 1.3/8.2 MB 1.5 MB/s eta 0:00:05\n",
      "     ------ --------------------------------- 1.3/8.2 MB 1.5 MB/s eta 0:00:05\n",
      "     ------ --------------------------------- 1.4/8.2 MB 1.5 MB/s eta 0:00:05\n",
      "     ------- -------------------------------- 1.5/8.2 MB 1.5 MB/s eta 0:00:05\n",
      "     ------- -------------------------------- 1.6/8.2 MB 1.6 MB/s eta 0:00:05\n",
      "     -------- ------------------------------- 1.7/8.2 MB 1.6 MB/s eta 0:00:04\n",
      "     -------- ------------------------------- 1.8/8.2 MB 1.6 MB/s eta 0:00:04\n",
      "     --------- ------------------------------ 1.9/8.2 MB 1.7 MB/s eta 0:00:04\n",
      "     --------- ------------------------------ 2.0/8.2 MB 1.7 MB/s eta 0:00:04\n",
      "     ---------- ----------------------------- 2.2/8.2 MB 1.7 MB/s eta 0:00:04\n",
      "     ----------- ---------------------------- 2.3/8.2 MB 1.8 MB/s eta 0:00:04\n",
      "     ----------- ---------------------------- 2.4/8.2 MB 1.8 MB/s eta 0:00:04\n",
      "     ------------ --------------------------- 2.5/8.2 MB 1.8 MB/s eta 0:00:04\n",
      "     ------------ --------------------------- 2.6/8.2 MB 1.8 MB/s eta 0:00:04\n",
      "     ------------- -------------------------- 2.7/8.2 MB 1.8 MB/s eta 0:00:04\n",
      "     ------------- -------------------------- 2.8/8.2 MB 1.8 MB/s eta 0:00:03\n",
      "     -------------- ------------------------- 2.9/8.2 MB 1.8 MB/s eta 0:00:03\n",
      "     -------------- ------------------------- 2.9/8.2 MB 1.8 MB/s eta 0:00:03\n",
      "     -------------- ------------------------- 2.9/8.2 MB 1.7 MB/s eta 0:00:03\n",
      "     -------------- ------------------------- 3.0/8.2 MB 1.7 MB/s eta 0:00:03\n",
      "     --------------- ------------------------ 3.2/8.2 MB 1.8 MB/s eta 0:00:03\n",
      "     --------------- ------------------------ 3.2/8.2 MB 1.8 MB/s eta 0:00:03\n",
      "     ---------------- ----------------------- 3.3/8.2 MB 1.8 MB/s eta 0:00:03\n",
      "     ---------------- ----------------------- 3.4/8.2 MB 1.8 MB/s eta 0:00:03\n",
      "     ---------------- ----------------------- 3.4/8.2 MB 1.8 MB/s eta 0:00:03\n",
      "     ----------------- ---------------------- 3.5/8.2 MB 1.8 MB/s eta 0:00:03\n",
      "     ----------------- ---------------------- 3.5/8.2 MB 1.7 MB/s eta 0:00:03\n",
      "     ----------------- ---------------------- 3.5/8.2 MB 1.7 MB/s eta 0:00:03\n",
      "     ----------------- ---------------------- 3.6/8.2 MB 1.7 MB/s eta 0:00:03\n",
      "     ----------------- ---------------------- 3.6/8.2 MB 1.7 MB/s eta 0:00:03\n",
      "     ----------------- ---------------------- 3.7/8.2 MB 1.6 MB/s eta 0:00:03\n",
      "     ------------------ --------------------- 3.8/8.2 MB 1.6 MB/s eta 0:00:03\n",
      "     ------------------ --------------------- 3.8/8.2 MB 1.6 MB/s eta 0:00:03\n",
      "     ------------------- -------------------- 3.9/8.2 MB 1.6 MB/s eta 0:00:03\n",
      "     ------------------- -------------------- 4.0/8.2 MB 1.7 MB/s eta 0:00:03\n",
      "     ------------------- -------------------- 4.1/8.2 MB 1.7 MB/s eta 0:00:03\n",
      "     -------------------- ------------------- 4.2/8.2 MB 1.7 MB/s eta 0:00:03\n",
      "     --------------------- ------------------ 4.3/8.2 MB 1.7 MB/s eta 0:00:03\n",
      "     --------------------- ------------------ 4.4/8.2 MB 1.7 MB/s eta 0:00:03\n",
      "     --------------------- ------------------ 4.4/8.2 MB 1.7 MB/s eta 0:00:03\n",
      "     ---------------------- ----------------- 4.6/8.2 MB 1.7 MB/s eta 0:00:03\n",
      "     ---------------------- ----------------- 4.6/8.2 MB 1.7 MB/s eta 0:00:03\n",
      "     ----------------------- ---------------- 4.8/8.2 MB 1.7 MB/s eta 0:00:03\n",
      "     ----------------------- ---------------- 4.8/8.2 MB 1.7 MB/s eta 0:00:02\n",
      "     ----------------------- ---------------- 4.9/8.2 MB 1.7 MB/s eta 0:00:02\n",
      "     ----------------------- ---------------- 4.9/8.2 MB 1.7 MB/s eta 0:00:02\n",
      "     ------------------------ --------------- 5.0/8.2 MB 1.7 MB/s eta 0:00:02\n",
      "     ------------------------ --------------- 5.0/8.2 MB 1.7 MB/s eta 0:00:02\n",
      "     ------------------------- -------------- 5.1/8.2 MB 1.7 MB/s eta 0:00:02\n",
      "     ------------------------- -------------- 5.2/8.2 MB 1.7 MB/s eta 0:00:02\n",
      "     -------------------------- ------------- 5.3/8.2 MB 1.7 MB/s eta 0:00:02\n",
      "     -------------------------- ------------- 5.4/8.2 MB 1.7 MB/s eta 0:00:02\n",
      "     -------------------------- ------------- 5.5/8.2 MB 1.7 MB/s eta 0:00:02\n",
      "     --------------------------- ------------ 5.6/8.2 MB 1.7 MB/s eta 0:00:02\n",
      "     --------------------------- ------------ 5.6/8.2 MB 1.7 MB/s eta 0:00:02\n",
      "     --------------------------- ------------ 5.7/8.2 MB 1.7 MB/s eta 0:00:02\n",
      "     ---------------------------- ----------- 5.8/8.2 MB 1.7 MB/s eta 0:00:02\n",
      "     ---------------------------- ----------- 5.9/8.2 MB 1.7 MB/s eta 0:00:02\n",
      "     ----------------------------- ---------- 6.0/8.2 MB 1.7 MB/s eta 0:00:02\n",
      "     ------------------------------ --------- 6.1/8.2 MB 1.7 MB/s eta 0:00:02\n",
      "     ------------------------------ --------- 6.3/8.2 MB 1.7 MB/s eta 0:00:02\n",
      "     ------------------------------- -------- 6.4/8.2 MB 1.7 MB/s eta 0:00:02\n",
      "     ------------------------------- -------- 6.5/8.2 MB 1.7 MB/s eta 0:00:01\n",
      "     -------------------------------- ------- 6.6/8.2 MB 1.7 MB/s eta 0:00:01\n",
      "     -------------------------------- ------- 6.7/8.2 MB 1.7 MB/s eta 0:00:01\n",
      "     --------------------------------- ------ 6.7/8.2 MB 1.7 MB/s eta 0:00:01\n",
      "     --------------------------------- ------ 6.8/8.2 MB 1.7 MB/s eta 0:00:01\n",
      "     --------------------------------- ------ 6.9/8.2 MB 1.7 MB/s eta 0:00:01\n",
      "     ---------------------------------- ----- 7.0/8.2 MB 1.7 MB/s eta 0:00:01\n",
      "     ---------------------------------- ----- 7.1/8.2 MB 1.8 MB/s eta 0:00:01\n",
      "     ----------------------------------- ---- 7.2/8.2 MB 1.7 MB/s eta 0:00:01\n",
      "     ----------------------------------- ---- 7.3/8.2 MB 1.8 MB/s eta 0:00:01\n",
      "     ------------------------------------ --- 7.4/8.2 MB 1.8 MB/s eta 0:00:01\n",
      "     ------------------------------------ --- 7.5/8.2 MB 1.8 MB/s eta 0:00:01\n",
      "     ------------------------------------- -- 7.6/8.2 MB 1.8 MB/s eta 0:00:01\n",
      "     ------------------------------------- -- 7.7/8.2 MB 1.8 MB/s eta 0:00:01\n",
      "     -------------------------------------- - 7.8/8.2 MB 1.8 MB/s eta 0:00:01\n",
      "     -------------------------------------- - 7.9/8.2 MB 1.8 MB/s eta 0:00:01\n",
      "     ---------------------------------------  8.0/8.2 MB 1.8 MB/s eta 0:00:01\n",
      "     ---------------------------------------  8.1/8.2 MB 1.8 MB/s eta 0:00:01\n",
      "     ---------------------------------------  8.2/8.2 MB 1.8 MB/s eta 0:00:01\n",
      "     ---------------------------------------- 8.2/8.2 MB 1.8 MB/s eta 0:00:00\n",
      "Requirement already satisfied: numpy in c:\\users\\eliud\\anaconda3\\envs\\dojo-env\\lib\\site-packages (from scattertext) (1.23.4)\n",
      "Requirement already satisfied: scipy in c:\\users\\eliud\\appdata\\roaming\\python\\python310\\site-packages (from scattertext) (1.8.1)\n",
      "Requirement already satisfied: scikit-learn in c:\\users\\eliud\\anaconda3\\envs\\dojo-env\\lib\\site-packages (from scattertext) (1.2.2)\n",
      "Requirement already satisfied: pandas in c:\\users\\eliud\\anaconda3\\envs\\dojo-env\\lib\\site-packages (from scattertext) (1.5.3)\n",
      "Requirement already satisfied: statsmodels in c:\\users\\eliud\\anaconda3\\envs\\dojo-env\\lib\\site-packages (from scattertext) (0.14.0)\n",
      "Collecting flashtext (from scattertext)\n",
      "  Downloading flashtext-2.7.tar.gz (14 kB)\n",
      "  Preparing metadata (setup.py): started\n",
      "  Preparing metadata (setup.py): finished with status 'done'\n",
      "Requirement already satisfied: gensim>=4.0.0 in c:\\users\\eliud\\anaconda3\\envs\\dojo-env\\lib\\site-packages (from scattertext) (4.3.1)\n",
      "Requirement already satisfied: spacy>=3.2 in c:\\users\\eliud\\anaconda3\\envs\\dojo-env\\lib\\site-packages (from scattertext) (3.7.2)\n",
      "Requirement already satisfied: tqdm in c:\\users\\eliud\\anaconda3\\envs\\dojo-env\\lib\\site-packages (from scattertext) (4.65.0)\n",
      "Requirement already satisfied: smart-open>=1.8.1 in c:\\users\\eliud\\anaconda3\\envs\\dojo-env\\lib\\site-packages (from gensim>=4.0.0->scattertext) (5.2.1)\n",
      "Requirement already satisfied: spacy-legacy<3.1.0,>=3.0.11 in c:\\users\\eliud\\anaconda3\\envs\\dojo-env\\lib\\site-packages (from spacy>=3.2->scattertext) (3.0.12)\n",
      "Requirement already satisfied: spacy-loggers<2.0.0,>=1.0.0 in c:\\users\\eliud\\anaconda3\\envs\\dojo-env\\lib\\site-packages (from spacy>=3.2->scattertext) (1.0.5)\n",
      "Requirement already satisfied: murmurhash<1.1.0,>=0.28.0 in c:\\users\\eliud\\anaconda3\\envs\\dojo-env\\lib\\site-packages (from spacy>=3.2->scattertext) (1.0.10)\n",
      "Requirement already satisfied: cymem<2.1.0,>=2.0.2 in c:\\users\\eliud\\anaconda3\\envs\\dojo-env\\lib\\site-packages (from spacy>=3.2->scattertext) (2.0.8)\n",
      "Requirement already satisfied: preshed<3.1.0,>=3.0.2 in c:\\users\\eliud\\anaconda3\\envs\\dojo-env\\lib\\site-packages (from spacy>=3.2->scattertext) (3.0.9)\n",
      "Requirement already satisfied: thinc<8.3.0,>=8.1.8 in c:\\users\\eliud\\anaconda3\\envs\\dojo-env\\lib\\site-packages (from spacy>=3.2->scattertext) (8.2.1)\n",
      "Requirement already satisfied: wasabi<1.2.0,>=0.9.1 in c:\\users\\eliud\\anaconda3\\envs\\dojo-env\\lib\\site-packages (from spacy>=3.2->scattertext) (1.1.2)\n",
      "Requirement already satisfied: srsly<3.0.0,>=2.4.3 in c:\\users\\eliud\\anaconda3\\envs\\dojo-env\\lib\\site-packages (from spacy>=3.2->scattertext) (2.4.8)\n",
      "Requirement already satisfied: catalogue<2.1.0,>=2.0.6 in c:\\users\\eliud\\anaconda3\\envs\\dojo-env\\lib\\site-packages (from spacy>=3.2->scattertext) (2.0.10)\n",
      "Requirement already satisfied: weasel<0.4.0,>=0.1.0 in c:\\users\\eliud\\anaconda3\\envs\\dojo-env\\lib\\site-packages (from spacy>=3.2->scattertext) (0.3.4)\n",
      "Requirement already satisfied: typer<0.10.0,>=0.3.0 in c:\\users\\eliud\\anaconda3\\envs\\dojo-env\\lib\\site-packages (from spacy>=3.2->scattertext) (0.9.0)\n",
      "Requirement already satisfied: requests<3.0.0,>=2.13.0 in c:\\users\\eliud\\anaconda3\\envs\\dojo-env\\lib\\site-packages (from spacy>=3.2->scattertext) (2.29.0)\n",
      "Requirement already satisfied: pydantic!=1.8,!=1.8.1,<3.0.0,>=1.7.4 in c:\\users\\eliud\\anaconda3\\envs\\dojo-env\\lib\\site-packages (from spacy>=3.2->scattertext) (1.10.13)\n",
      "Requirement already satisfied: jinja2 in c:\\users\\eliud\\anaconda3\\envs\\dojo-env\\lib\\site-packages (from spacy>=3.2->scattertext) (3.1.2)\n",
      "Requirement already satisfied: setuptools in c:\\users\\eliud\\anaconda3\\envs\\dojo-env\\lib\\site-packages (from spacy>=3.2->scattertext) (66.0.0)\n",
      "Requirement already satisfied: packaging>=20.0 in c:\\users\\eliud\\anaconda3\\envs\\dojo-env\\lib\\site-packages (from spacy>=3.2->scattertext) (23.0)\n",
      "Requirement already satisfied: langcodes<4.0.0,>=3.2.0 in c:\\users\\eliud\\anaconda3\\envs\\dojo-env\\lib\\site-packages (from spacy>=3.2->scattertext) (3.3.0)\n",
      "Requirement already satisfied: colorama in c:\\users\\eliud\\anaconda3\\envs\\dojo-env\\lib\\site-packages (from tqdm->scattertext) (0.4.6)\n",
      "Requirement already satisfied: python-dateutil>=2.8.1 in c:\\users\\eliud\\anaconda3\\envs\\dojo-env\\lib\\site-packages (from pandas->scattertext) (2.8.2)\n",
      "Requirement already satisfied: pytz>=2020.1 in c:\\users\\eliud\\anaconda3\\envs\\dojo-env\\lib\\site-packages (from pandas->scattertext) (2022.7.1)\n",
      "Requirement already satisfied: joblib>=1.1.1 in c:\\users\\eliud\\anaconda3\\envs\\dojo-env\\lib\\site-packages (from scikit-learn->scattertext) (1.1.1)\n",
      "Requirement already satisfied: threadpoolctl>=2.0.0 in c:\\users\\eliud\\anaconda3\\envs\\dojo-env\\lib\\site-packages (from scikit-learn->scattertext) (2.2.0)\n",
      "Requirement already satisfied: patsy>=0.5.2 in c:\\users\\eliud\\anaconda3\\envs\\dojo-env\\lib\\site-packages (from statsmodels->scattertext) (0.5.3)\n",
      "Requirement already satisfied: six in c:\\users\\eliud\\anaconda3\\envs\\dojo-env\\lib\\site-packages (from patsy>=0.5.2->statsmodels->scattertext) (1.16.0)\n",
      "Requirement already satisfied: typing-extensions>=4.2.0 in c:\\users\\eliud\\anaconda3\\envs\\dojo-env\\lib\\site-packages (from pydantic!=1.8,!=1.8.1,<3.0.0,>=1.7.4->spacy>=3.2->scattertext) (4.5.0)\n",
      "Requirement already satisfied: charset-normalizer<4,>=2 in c:\\users\\eliud\\anaconda3\\envs\\dojo-env\\lib\\site-packages (from requests<3.0.0,>=2.13.0->spacy>=3.2->scattertext) (2.0.4)\n",
      "Requirement already satisfied: idna<4,>=2.5 in c:\\users\\eliud\\appdata\\roaming\\python\\python310\\site-packages (from requests<3.0.0,>=2.13.0->spacy>=3.2->scattertext) (3.3)\n",
      "Requirement already satisfied: urllib3<1.27,>=1.21.1 in c:\\users\\eliud\\appdata\\roaming\\python\\python310\\site-packages (from requests<3.0.0,>=2.13.0->spacy>=3.2->scattertext) (1.26.8)\n",
      "Requirement already satisfied: certifi>=2017.4.17 in c:\\users\\eliud\\anaconda3\\envs\\dojo-env\\lib\\site-packages (from requests<3.0.0,>=2.13.0->spacy>=3.2->scattertext) (2023.11.17)\n",
      "Requirement already satisfied: blis<0.8.0,>=0.7.8 in c:\\users\\eliud\\anaconda3\\envs\\dojo-env\\lib\\site-packages (from thinc<8.3.0,>=8.1.8->spacy>=3.2->scattertext) (0.7.10)\n",
      "Requirement already satisfied: confection<1.0.0,>=0.0.1 in c:\\users\\eliud\\anaconda3\\envs\\dojo-env\\lib\\site-packages (from thinc<8.3.0,>=8.1.8->spacy>=3.2->scattertext) (0.1.4)\n",
      "Requirement already satisfied: click<9.0.0,>=7.1.1 in c:\\users\\eliud\\anaconda3\\envs\\dojo-env\\lib\\site-packages (from typer<0.10.0,>=0.3.0->spacy>=3.2->scattertext) (8.0.4)\n",
      "Requirement already satisfied: cloudpathlib<0.17.0,>=0.7.0 in c:\\users\\eliud\\anaconda3\\envs\\dojo-env\\lib\\site-packages (from weasel<0.4.0,>=0.1.0->spacy>=3.2->scattertext) (0.16.0)\n",
      "Requirement already satisfied: MarkupSafe>=2.0 in c:\\users\\eliud\\anaconda3\\envs\\dojo-env\\lib\\site-packages (from jinja2->spacy>=3.2->scattertext) (2.1.1)\n",
      "Building wheels for collected packages: flashtext\n",
      "  Building wheel for flashtext (setup.py): started\n",
      "  Building wheel for flashtext (setup.py): finished with status 'done'\n",
      "  Created wheel for flashtext: filename=flashtext-2.7-py2.py3-none-any.whl size=9323 sha256=11934ce77edee17a2949a6c72676798361242209d5b644a444fec6eb2ebdcd12\n",
      "  Stored in directory: c:\\users\\eliud\\appdata\\local\\pip\\cache\\wheels\\bc\\be\\39\\c37ad168eb2ff644c9685f52554440372129450f0b8ed203dd\n",
      "Successfully built flashtext\n",
      "Installing collected packages: flashtext, scattertext\n",
      "Successfully installed flashtext-2.7 scattertext-0.1.19\n"
     ]
    }
   ],
   "source": [
    "# install scattertext\n",
    "!pip install scattertext"
   ]
  },
  {
   "cell_type": "code",
   "execution_count": null,
   "id": "cf381d62-abe0-4f8e-84bf-e787323f0543",
   "metadata": {},
   "outputs": [],
   "source": [
    "from IPython.display import IFrame\n",
    "import scattertext as st\n",
    "from scattertext import (\n",
    "    SampleCorpora,\n",
    "    produce_scattertext_explorer,\n",
    "    produce_scattertext_html,\n",
    ")\n",
    "from scattertext.CorpusFromPandas import CorpusFromPandas"
   ]
  },
  {
   "cell_type": "code",
   "execution_count": null,
   "id": "e79a9d4e-e258-40a9-8868-182c9b5befeb",
   "metadata": {},
   "outputs": [],
   "source": [
    "# Build the scattertext corpus object\n",
    "corpus = st.CorpusFromPandas(\n",
    "    reviews, category_col=\"stars\",\n",
    "    text_col='text', \n",
    "    nlp=nlp\n",
    ").build().remove_terms(nlp.Defaults.stop_words, ignore_absences = True)"
   ]
  },
  {
   "cell_type": "code",
   "execution_count": null,
   "id": "1ece0cfc-9886-4d6d-832d-a6d8fc0a7ee4",
   "metadata": {},
   "outputs": [],
   "source": [
    "# verify object type\n",
    "type(corpus)"
   ]
  },
  {
   "cell_type": "markdown",
   "id": "8f4f193a-51e0-4254-be77-dbdf876c6fa2",
   "metadata": {},
   "source": [
    "## Explore Corpus Object"
   ]
  },
  {
   "cell_type": "code",
   "execution_count": null,
   "id": "c53b08d6-a008-4e8e-ae15-6a51e9f772fe",
   "metadata": {},
   "outputs": [],
   "source": [
    "# These are the terms found in the reviews that are different than general English texts\n",
    "print(list(corpus.get_scaled_f_scores_vs_background().index[:10]))"
   ]
  },
  {
   "cell_type": "code",
   "execution_count": null,
   "id": "3ba0a7ba-a954-4f60-b40e-91ab4dd44f45",
   "metadata": {},
   "outputs": [],
   "source": [
    "# Next, we can compare the frequency of a term in the 1-star versus 5-star reviews.\n",
    "\n",
    "term_freq_df = corpus.get_term_freq_df()\n",
    "term_freq_df"
   ]
  },
  {
   "cell_type": "code",
   "execution_count": null,
   "id": "1064465d-6079-41c0-afe7-a98b79358e56",
   "metadata": {},
   "outputs": [],
   "source": [
    "# include f_scores in df\n",
    "# Add the f score for each term for each term\n",
    "term_freq_df['5-star'] = corpus.get_scaled_f_scores('5')\n",
    "term_freq_df['1-star'] = corpus.get_scaled_f_scores('1')\n",
    "\n",
    "term_freq_df.head()"
   ]
  },
  {
   "cell_type": "markdown",
   "id": "c3f7275f-b6ec-4fb9-bae6-5d15387a6576",
   "metadata": {},
   "source": [
    "### find terms characteristic of each category"
   ]
  },
  {
   "cell_type": "code",
   "execution_count": null,
   "id": "083652a1-1972-4e6d-bf7a-a692a04ea66b",
   "metadata": {},
   "outputs": [],
   "source": [
    "# Terms most associated with 5 star reviews\n",
    "print(list(term_freq_df.sort_values(by='5-star', ascending=False).index[:10]))"
   ]
  },
  {
   "cell_type": "code",
   "execution_count": null,
   "id": "2f0f2f52-89d5-4220-88db-4b286d96c2d6",
   "metadata": {},
   "outputs": [],
   "source": [
    "# Terms most associated with 1 star reviews\n",
    "print(list(term_freq_df.sort_values(by='1-star', ascending=False).index[:10]))"
   ]
  },
  {
   "cell_type": "markdown",
   "id": "e1f98205-1fe8-407b-bf48-117a896e9cab",
   "metadata": {},
   "source": [
    "## Create HTML Visualization i.e. Interactive Explorer"
   ]
  },
  {
   "cell_type": "code",
   "execution_count": null,
   "id": "2ad76ecc-3179-4dce-8c07-3edb76b407cf",
   "metadata": {},
   "outputs": [],
   "source": [
    "# Create html visualization\n",
    "# Provide file path to save \n",
    "scatter_fname = './scattertext_restaurant.html'\n",
    "\n",
    "scatter_html = st.produce_scattertext_explorer(\n",
    "    corpus,\n",
    "    category= '5',\n",
    "    category_name=\"5-Star Reviews\",\n",
    "    not_category_name=\"1-Star Reviews\",\n",
    "    minimum_term_frequency=3,\n",
    "    width_in_pixels=1000,\n",
    "    metadata=reviews[\"text\"],\n",
    ")\n",
    "open(scatter_fname, 'wb').write(scatter_html.encode('utf-8'))\n",
    "print(f'Open {scatter_fname} in Chrome or Firefox.')\n",
    "\n"
   ]
  },
  {
   "cell_type": "markdown",
   "id": "efd90b57-8b4c-4f0f-a630-e1c01c7f7db5",
   "metadata": {},
   "source": [
    " you can download HTML file and open in Chrome or Firefox"
   ]
  }
 ],
 "metadata": {
  "kernelspec": {
   "display_name": "Python (dojo-env)",
   "language": "python",
   "name": "dojo-env"
  },
  "language_info": {
   "codemirror_mode": {
    "name": "ipython",
    "version": 3
   },
   "file_extension": ".py",
   "mimetype": "text/x-python",
   "name": "python",
   "nbconvert_exporter": "python",
   "pygments_lexer": "ipython3",
   "version": "3.10.10"
  },
  "widgets": {
   "application/vnd.jupyter.widget-state+json": {
    "state": {},
    "version_major": 2,
    "version_minor": 0
   }
  }
 },
 "nbformat": 4,
 "nbformat_minor": 5
}
